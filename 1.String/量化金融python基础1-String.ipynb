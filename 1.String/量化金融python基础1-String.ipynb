{
 "cells": [
  {
   "attachments": {},
   "cell_type": "markdown",
   "metadata": {},
   "source": [
    "# 字符串操作"
   ]
  },
  {
   "cell_type": "code",
   "execution_count": 14,
   "metadata": {},
   "outputs": [
    {
     "data": {
      "text/plain": [
       "' if2209.CFFEX, Ic2209.CFFEX, IH2209.CFFEX '"
      ]
     },
     "execution_count": 14,
     "metadata": {},
     "output_type": "execute_result"
    }
   ],
   "source": [
    "\n",
    "# 以沪深300指数期货，中证500指数期货，上证50指数期货为例。\n",
    "A = \" if2209.CFFEX, Ic2209.CFFEX, IH2209.CFFEX \"\n",
    "A"
   ]
  },
  {
   "cell_type": "code",
   "execution_count": 4,
   "metadata": {},
   "outputs": [
    {
     "data": {
      "text/plain": [
       "['if2209.CFFEX', ' Ic2209.CFFEX', ' IH2209.CFFEX']"
      ]
     },
     "execution_count": 4,
     "metadata": {},
     "output_type": "execute_result"
    }
   ],
   "source": [
    "A.split(\",\") # 拆分后返回的是一个列表"
   ]
  },
  {
   "cell_type": "code",
   "execution_count": 5,
   "metadata": {},
   "outputs": [
    {
     "data": {
      "text/plain": [
       "'if2209.CFFEX'"
      ]
     },
     "execution_count": 5,
     "metadata": {},
     "output_type": "execute_result"
    }
   ],
   "source": [
    "B, C, D = A.split(\",\") # 将三个元素分别赋予B，C，D\n",
    "B"
   ]
  },
  {
   "cell_type": "code",
   "execution_count": 6,
   "metadata": {},
   "outputs": [
    {
     "data": {
      "text/plain": [
       "'if2209.CFFEX,  Ic2209.CFFEX,  IH2209.CFFEX'"
      ]
     },
     "execution_count": 6,
     "metadata": {},
     "output_type": "execute_result"
    }
   ],
   "source": [
    "\", \".join([B, C, D]) # 将三个元素重新组合成A"
   ]
  },
  {
   "cell_type": "code",
   "execution_count": 7,
   "metadata": {},
   "outputs": [
    {
     "data": {
      "text/plain": [
       "2"
      ]
     },
     "execution_count": 7,
     "metadata": {},
     "output_type": "execute_result"
    }
   ],
   "source": [
    "# index 返回第一个匹配的字符位置\n",
    "A.index(\"2\")"
   ]
  },
  {
   "cell_type": "code",
   "execution_count": 8,
   "metadata": {},
   "outputs": [
    {
     "data": {
      "text/plain": [
       "2"
      ]
     },
     "execution_count": 8,
     "metadata": {},
     "output_type": "execute_result"
    }
   ],
   "source": [
    "# str.find 也是返回第一个匹配的字符位置\n",
    "# 和index 不同的是，当寻找的字符不存在时，index会报错，find会返回\"-1\"\n",
    "A.find(\"2\")"
   ]
  },
  {
   "cell_type": "code",
   "execution_count": 9,
   "metadata": {},
   "outputs": [
    {
     "data": {
      "text/plain": [
       "-1"
      ]
     },
     "execution_count": 9,
     "metadata": {},
     "output_type": "execute_result"
    }
   ],
   "source": [
    "A.find(\"3\")"
   ]
  },
  {
   "cell_type": "code",
   "execution_count": 10,
   "metadata": {},
   "outputs": [
    {
     "data": {
      "text/plain": [
       "2"
      ]
     },
     "execution_count": 10,
     "metadata": {},
     "output_type": "execute_result"
    }
   ],
   "source": [
    "# string.count 返回给定字符出现的次数\n",
    "A.count(\"I\")"
   ]
  },
  {
   "cell_type": "code",
   "execution_count": 12,
   "metadata": {},
   "outputs": [
    {
     "name": "stdout",
     "output_type": "stream",
     "text": [
      "if2209.CFFEX, Zc2209.CFFEX, ZH2209.CFFEX\n",
      "if2209.CFFEX, Zc2209.CFFEX, IH2209.CFFEX\n"
     ]
    }
   ],
   "source": [
    "# string.replace 替换所有符合给定的字符\n",
    "print(A.replace(\"I\", \"Z\")) # 将I替换成Z\n",
    "print(A.replace(\"I\", \"Z\", 1)) # 仅替换第一次出现的I"
   ]
  },
  {
   "cell_type": "code",
   "execution_count": 15,
   "metadata": {},
   "outputs": [
    {
     "name": "stdout",
     "output_type": "stream",
     "text": [
      " if2209.CFFEX, Ic2209.CFFEX, IH2209.CFFEX \n",
      "if2209.CFFEX, Ic2209.CFFEX, IH2209.CFFEX\n"
     ]
    }
   ],
   "source": [
    "#string.strip() 用于删除字符串开头和结尾处的空白字符。空白字符包括空格、制表符、换行符\n",
    "print(A) # A的开头和结尾都有一个空格符\n",
    "print(A.strip()) \n"
   ]
  },
  {
   "cell_type": "code",
   "execution_count": 17,
   "metadata": {},
   "outputs": [
    {
     "name": "stdout",
     "output_type": "stream",
     "text": [
      " if2209.CFFEX, Ic2209.CFFEX, IH2209.CFFEX \n",
      "if2209.CFFEX,Ic2209.CFFEX,IH2209.CFFEX\n"
     ]
    }
   ],
   "source": [
    "# strip只能删除字符串开头和结尾的空白符号，如果想删除字符串中间的空白符，可以搭配split和join\n",
    "print(A) # 每个期货合约代码之间都有一个空格符\n",
    "print(\"\".join(A.split(\" \")))"
   ]
  },
  {
   "cell_type": "code",
   "execution_count": 20,
   "metadata": {},
   "outputs": [
    {
     "name": "stdout",
     "output_type": "stream",
     "text": [
      " if2209.CFFEX, Ic2209.CFFEX, IH2209.CFFEX \n",
      " if2209.cffex, ic2209.cffex, ih2209.cffex \n",
      " IF2209.CFFEX, IC2209.CFFEX, IH2209.CFFEX \n",
      " If2209.Cffex, Ic2209.Cffex, Ih2209.Cffex \n"
     ]
    }
   ],
   "source": [
    "print(A)\n",
    "print(A.lower()) # 所有字母改成小写\n",
    "print(A.upper()) # 所有字母大写\n",
    "print(A.title()) # 字符串首字母大写"
   ]
  },
  {
   "cell_type": "code",
   "execution_count": 23,
   "metadata": {},
   "outputs": [
    {
     "name": "stdout",
     "output_type": "stream",
     "text": [
      "if2209.CFFEX\n",
      "if2209.CFFEX***\n"
     ]
    }
   ],
   "source": [
    "# string.ljust() 将字符串左对齐并在右侧填充指定的字符，以达到指定的宽度。l指left左对齐的意思。\n",
    "print(B)\n",
    "print(B.ljust(15, \"*\")) # 左对齐右侧填充至15个单位 \n"
   ]
  },
  {
   "cell_type": "code",
   "execution_count": 24,
   "metadata": {},
   "outputs": [
    {
     "name": "stdout",
     "output_type": "stream",
     "text": [
      "if2209.CFFEX\n",
      "***if2209.CFFEX\n"
     ]
    }
   ],
   "source": [
    "# 有ljust对应的就有rjust。同理，rjust将字符串右对齐，向左填充。\n",
    "print(B)\n",
    "print(B.rjust(15, \"*\"))"
   ]
  },
  {
   "cell_type": "code",
   "execution_count": 28,
   "metadata": {},
   "outputs": [
    {
     "name": "stdout",
     "output_type": "stream",
     "text": [
      "if2209.CFFEX  Ic2209.CFFEX  IH2209.CFFEX\n",
      "2022年9月到期的沪深300指数期货是if2209.CFFEX, 中证500期货是 Ic2209.CFFEX， 上证50期货是 IH2209.CFFEX\n"
     ]
    }
   ],
   "source": [
    "# string.format\n",
    "print(B, C, D)\n",
    "print(\"2022年9月到期的沪深300指数期货是{}, 中证500期货是{}， 上证50期货是{}\".format(B, C, D))"
   ]
  },
  {
   "cell_type": "code",
   "execution_count": 33,
   "metadata": {},
   "outputs": [
    {
     "name": "stdout",
     "output_type": "stream",
     "text": [
      "2022年9月到期的股指期货有:\n",
      "沪深300指数期货if2209.CFFEX,\n",
      " 中证500期货 Ic2209.CFFEX，\n",
      " 上证50期货 IH2209.CFFEX\n",
      "\n",
      "加上制表符\n",
      "2022年9月到期的股指期货有:\n",
      "沪深300指数期货\tif2209.CFFEX,\n",
      " 中证500期货\t Ic2209.CFFEX，\n",
      " 上证50期货\t IH2209.CFFEX\n",
      "\n"
     ]
    }
   ],
   "source": [
    "# 这里提一下制表符和换行符\n",
    "# python中制表符以\"\\t\"表示，用于输出水平对齐的列。\n",
    "# 换行符以\"\\n\"表示。\n",
    "print(\"2022年9月到期的股指期货有:\\n沪深300指数期货{},\\n 中证500期货{}，\\n 上证50期货{}\\n\".format(B, C, D))\n",
    "print(\"加上制表符\")\n",
    "print(\"2022年9月到期的股指期货有:\\n沪深300指数期货\\t{},\\n 中证500期货\\t{}，\\n 上证50期货\\t{}\\n\".format(B, C, D))"
   ]
  },
  {
   "attachments": {},
   "cell_type": "markdown",
   "metadata": {},
   "source": [
    "## 字符串操作在程序化交易中经常被用于调整合约名称。  \n",
    "\n",
    "需要注意的是，各个期货交易所对合约名称有自己的规定，如下：  \n",
    "\n",
    "上期/能源所：小写+4个数字（rb1909代表rb品种，19年9月份到期）\n",
    "\n",
    "中金所：大写+4个数字\n",
    "\n",
    "郑商所：大写+3个数字(TA001代表TA品种，20年01月份到期)\n",
    "\n",
    "大商所：小写+4个数字\n",
    "\n",
    "期权合约如下：标的期货合约+看涨/看跌+行权价\n",
    "\n",
    "上期所：小写+四个数字+C（或者P）+行权价，如cu1912C43000\n",
    "\n",
    "大商所：小写+四个数字+ -C-（或者-P-）+ 行权价，如c2001-C-1800\n",
    "\n",
    "郑商所：大写+三个数字+C（或者P）+行权价，如CF001C11200\n",
    "\n",
    "中金所：大写+四个数字+ -C-（或者-P-）+ 行权价，如IO1908-C-2100"
   ]
  },
  {
   "attachments": {},
   "cell_type": "markdown",
   "metadata": {},
   "source": [
    "# Summary\n",
    "\n",
    "* string.split()\n",
    "* string.join()\n",
    "* string.index()\n",
    "* string.find()\n",
    "* string.count()\n",
    "* string.replace()\n",
    "* string.strip()\n",
    "* string.lower()\n",
    "* string.ljust(), string.rjust()\n",
    "* string.title()\n",
    "* format using {}.format\n",
    "* 换行符, 制表符"
   ]
  }
 ],
 "metadata": {
  "kernelspec": {
   "display_name": "Python 3 (ipykernel)",
   "language": "python",
   "name": "python3"
  },
  "language_info": {
   "codemirror_mode": {
    "name": "ipython",
    "version": 3
   },
   "file_extension": ".py",
   "mimetype": "text/x-python",
   "name": "python",
   "nbconvert_exporter": "python",
   "pygments_lexer": "ipython3",
   "version": "3.10.9"
  }
 },
 "nbformat": 4,
 "nbformat_minor": 4
}
