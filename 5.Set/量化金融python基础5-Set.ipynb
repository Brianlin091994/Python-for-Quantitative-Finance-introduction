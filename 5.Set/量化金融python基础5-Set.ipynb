{
 "cells": [
  {
   "attachments": {},
   "cell_type": "markdown",
   "id": "0a68e5c3-b226-4a02-8d30-05d39bd7d441",
   "metadata": {
    "tags": []
   },
   "source": [
    "# Data Structure 数据结构 - Set 集合"
   ]
  },
  {
   "attachments": {},
   "cell_type": "markdown",
   "id": "e8223184-ef87-483a-a1ba-b6d55e292054",
   "metadata": {},
   "source": [
    "Python set是无序的不可变集合，且内部元素具有唯一性，即不可重复。\n",
    "\n",
    "set也是用{ }表示, 但不像字典一样输入键值对key-value pairs，而是输入单独的元素内容。"
   ]
  },
  {
   "cell_type": "code",
   "execution_count": 1,
   "id": "25c11ba1-fca9-4cae-8af7-eed79d7d303b",
   "metadata": {
    "tags": []
   },
   "outputs": [
    {
     "data": {
      "text/plain": [
       "{'c2309', 'i2309', 'lh2309', 'm2309', 'pp2309'}"
      ]
     },
     "execution_count": 1,
     "metadata": {},
     "output_type": "execute_result"
    }
   ],
   "source": [
    "contract_set1 = {\"c2309\", \"m2309\", \"lh2309\", \"pp2309\", \"i2309\", \"i2309\"}\n",
    "contract_set1"
   ]
  },
  {
   "attachments": {},
   "cell_type": "markdown",
   "id": "ef0369cb-1a92-45de-a1d0-94154f0710a9",
   "metadata": {},
   "source": [
    "由于set是无序的，所以不能用索引访问内部元素。\n",
    "\n",
    "可以通过for循环打印集合内所有元素。\n",
    "\n",
    "集合最大的用处是做去重，以及集合运算。"
   ]
  },
  {
   "cell_type": "code",
   "execution_count": 2,
   "id": "cc229b6b-6a33-44f4-88fc-cf5b22138f06",
   "metadata": {
    "tags": []
   },
   "outputs": [
    {
     "name": "stdout",
     "output_type": "stream",
     "text": [
      "{'m2309', 'pp2309'}\n",
      "{'m2309', 'pp2309'}\n"
     ]
    }
   ],
   "source": [
    "contract_set2 = {\"m2309\", \"pp2309\", \"AP310\", \"CF309\"}\n",
    "# 取交集\n",
    "\n",
    "# 方法1\n",
    "print(contract_set1 & contract_set2)\n",
    "# 方法2\n",
    "print(contract_set1.intersection(contract_set2))"
   ]
  },
  {
   "cell_type": "code",
   "execution_count": 3,
   "id": "a4a91f25-8068-436b-ade4-1803eef6e48a",
   "metadata": {
    "tags": []
   },
   "outputs": [
    {
     "name": "stdout",
     "output_type": "stream",
     "text": [
      "{'m2309', 'c2309', 'CF309', 'pp2309', 'lh2309', 'i2309', 'AP310'}\n",
      "{'m2309', 'c2309', 'CF309', 'pp2309', 'lh2309', 'i2309', 'AP310'}\n"
     ]
    }
   ],
   "source": [
    "# 并集\n",
    "\n",
    "# 方法1\n",
    "print(contract_set1 | contract_set2)\n",
    "# 方法2\n",
    "print(contract_set1.union(contract_set2))"
   ]
  },
  {
   "cell_type": "code",
   "execution_count": 4,
   "id": "0d525198-f209-4b90-88f4-cff6b3ba6a5a",
   "metadata": {
    "tags": []
   },
   "outputs": [
    {
     "name": "stdout",
     "output_type": "stream",
     "text": [
      "{'i2309', 'c2309', 'lh2309'}\n",
      "{'i2309', 'c2309', 'lh2309'}\n"
     ]
    }
   ],
   "source": [
    "# 差集\n",
    "# 集合1有的，集合2没有的元素\n",
    "\n",
    "#方法1\n",
    "print(contract_set1.difference(contract_set2))\n",
    "#方法2\n",
    "print(contract_set1-contract_set2)"
   ]
  },
  {
   "cell_type": "code",
   "execution_count": 5,
   "id": "78b8061c-ea4a-4600-9022-8ca7898a661e",
   "metadata": {
    "tags": []
   },
   "outputs": [
    {
     "name": "stdout",
     "output_type": "stream",
     "text": [
      "{'c2309', 'CF309', 'lh2309', 'i2309', 'AP310'}\n",
      "{'c2309', 'CF309', 'lh2309', 'i2309', 'AP310'}\n"
     ]
    }
   ],
   "source": [
    "# 对称差分集合\n",
    "# 取两个集合都有的，但不在两者交集中的元素。即，仅存于任一集合的元素。 \n",
    "\n",
    "#方法1\n",
    "print(contract_set1.symmetric_difference(contract_set2))\n",
    "#方法2\n",
    "print(contract_set1^contract_set2)"
   ]
  },
  {
   "attachments": {},
   "cell_type": "markdown",
   "id": "28713333-a5da-4dd8-ae7d-99c52ff494ba",
   "metadata": {},
   "source": [
    "有时候会看到类似于 \n",
    "\n",
    "contract_set1 &= contract_set2, 即 set_a &= set_b.\n",
    "\n",
    "该含义为 set_a = set_a & set_b.\n",
    "\n",
    "同理于 set_a |= set_b\n",
    "\n",
    "set_a ^= set_b"
   ]
  },
  {
   "cell_type": "code",
   "execution_count": 6,
   "id": "7e43daa6-907b-4bcd-ae90-cf7f179a395d",
   "metadata": {
    "tags": []
   },
   "outputs": [
    {
     "data": {
      "text/plain": [
       "True"
      ]
     },
     "execution_count": 6,
     "metadata": {},
     "output_type": "execute_result"
    }
   ],
   "source": [
    "# 子集判断\n",
    "contract_set1_subset = {\"c2309\", \"i2309\"}\n",
    "\n",
    "# contract_set1_subset是否包含于contract_set1_subset, 是的话返回True\n",
    "contract_set1_subset.issubset(contract_set1)"
   ]
  },
  {
   "cell_type": "code",
   "execution_count": 7,
   "id": "29650ceb-7d4f-4eff-9d86-a1bfc9190616",
   "metadata": {
    "tags": []
   },
   "outputs": [
    {
     "data": {
      "text/plain": [
       "True"
      ]
     },
     "execution_count": 7,
     "metadata": {},
     "output_type": "execute_result"
    }
   ],
   "source": [
    "# 超集判断\n",
    "# contract_set1 是 contract_set1_subset 的超集，这里返回True\n",
    "contract_set1.issuperset(contract_set1_subset)"
   ]
  },
  {
   "cell_type": "code",
   "execution_count": 8,
   "id": "6535c7a5-d7e9-48b8-8336-b90e36d05e83",
   "metadata": {
    "tags": []
   },
   "outputs": [
    {
     "data": {
      "text/plain": [
       "True"
      ]
     },
     "execution_count": 8,
     "metadata": {},
     "output_type": "execute_result"
    }
   ],
   "source": [
    "# 两者没有交集返回True\n",
    "{\"AP310\", \"CF309\"}.isdisjoint(contract_set1)"
   ]
  },
  {
   "attachments": {},
   "cell_type": "markdown",
   "id": "5ab3438e-e104-486a-b7f8-6d8967879098",
   "metadata": {},
   "source": [
    "注意：\n",
    "\n",
    "由于集合的元素是不可变的，如果想包含列表型的元素，需要先转换成元组。\n"
   ]
  },
  {
   "cell_type": "code",
   "execution_count": 9,
   "id": "eb5ac025-7ea4-4f7c-98a6-28b8bcccf2f1",
   "metadata": {
    "tags": []
   },
   "outputs": [
    {
     "ename": "TypeError",
     "evalue": "unhashable type: 'list'",
     "output_type": "error",
     "traceback": [
      "\u001b[1;31m---------------------------------------------------------------------------\u001b[0m",
      "\u001b[1;31mTypeError\u001b[0m                                 Traceback (most recent call last)",
      "Cell \u001b[1;32mIn[9], line 3\u001b[0m\n\u001b[0;32m      1\u001b[0m \u001b[38;5;66;03m# 直接向集合内添加list会报错\u001b[39;00m\n\u001b[0;32m      2\u001b[0m list1 \u001b[38;5;241m=\u001b[39m [\u001b[38;5;124m\"\u001b[39m\u001b[38;5;124mplum\u001b[39m\u001b[38;5;124m\"\u001b[39m, \u001b[38;5;124m\"\u001b[39m\u001b[38;5;124mavocado\u001b[39m\u001b[38;5;124m\"\u001b[39m]\n\u001b[1;32m----> 3\u001b[0m \u001b[43mcontract_set1\u001b[49m\u001b[38;5;241;43m.\u001b[39;49m\u001b[43madd\u001b[49m\u001b[43m(\u001b[49m\u001b[43mlist1\u001b[49m\u001b[43m)\u001b[49m\n",
      "\u001b[1;31mTypeError\u001b[0m: unhashable type: 'list'"
     ]
    }
   ],
   "source": [
    "# 直接向集合内添加list会报错\n",
    "list1 = [\"plum\", \"avocado\"]\n",
    "contract_set1.add(list1)"
   ]
  },
  {
   "cell_type": "code",
   "execution_count": 10,
   "id": "207f3c1f-a2cb-46b2-8d5f-d41d848ebb67",
   "metadata": {
    "tags": []
   },
   "outputs": [
    {
     "data": {
      "text/plain": [
       "{('plum', 'avocado'), 'c2309', 'i2309', 'lh2309', 'm2309', 'pp2309'}"
      ]
     },
     "execution_count": 10,
     "metadata": {},
     "output_type": "execute_result"
    }
   ],
   "source": [
    "contract_set1.add(tuple(list1))\n",
    "contract_set1"
   ]
  },
  {
   "cell_type": "code",
   "execution_count": 11,
   "id": "66d36b3a-0e11-41a6-8659-006d02bd6747",
   "metadata": {
    "tags": []
   },
   "outputs": [
    {
     "data": {
      "text/plain": [
       "{('plum', 'avocado'), 'i2309', 'lh2309', 'm2309', 'pp2309'}"
      ]
     },
     "execution_count": 11,
     "metadata": {},
     "output_type": "execute_result"
    }
   ],
   "source": [
    "# 移除集合内某个元素\n",
    "contract_set1.remove(\"c2309\")\n",
    "contract_set1"
   ]
  },
  {
   "cell_type": "code",
   "execution_count": 12,
   "id": "5489c18e-46d7-4bdc-8161-560d9f594562",
   "metadata": {
    "tags": []
   },
   "outputs": [
    {
     "data": {
      "text/plain": [
       "set()"
      ]
     },
     "execution_count": 12,
     "metadata": {},
     "output_type": "execute_result"
    }
   ],
   "source": [
    "# 清空集合 \n",
    "contract_set1.clear()\n",
    "contract_set1"
   ]
  },
  {
   "attachments": {},
   "cell_type": "markdown",
   "id": "52664b68-7163-46d9-90d3-8512c3b847e7",
   "metadata": {},
   "source": [
    "# Summary\n"
   ]
  },
  {
   "attachments": {},
   "cell_type": "markdown",
   "id": "a0dbce72-4411-44ed-b239-35d5a7a07f77",
   "metadata": {},
   "source": [
    "* set1 & set2, set1.intersection(set2)\n",
    "* set1 | set2, set1.union(set2)\n",
    "* set1 - set2, set1.difference(set2)\n",
    "* set1 ^ set2, set1.symmetric_difference(set2)\n",
    "* set1 &= set2, set1 |= set2\n",
    "* set1.issubset(set2)\n",
    "* set.issuperset(set2)\n",
    "* set1.isdisjoint(set2)\n",
    "* set.add()\n",
    "* set.remove()\n",
    "* set.clear()\n"
   ]
  }
 ],
 "metadata": {
  "kernelspec": {
   "display_name": "Python 3 (ipykernel)",
   "language": "python",
   "name": "python3"
  },
  "language_info": {
   "codemirror_mode": {
    "name": "ipython",
    "version": 3
   },
   "file_extension": ".py",
   "mimetype": "text/x-python",
   "name": "python",
   "nbconvert_exporter": "python",
   "pygments_lexer": "ipython3",
   "version": "3.10.9"
  }
 },
 "nbformat": 4,
 "nbformat_minor": 5
}
