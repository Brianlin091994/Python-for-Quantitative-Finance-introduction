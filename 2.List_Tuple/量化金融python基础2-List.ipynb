{
 "cells": [
  {
   "cell_type": "markdown",
   "metadata": {},
   "source": [
    "# Data Structure 数据结构 - List"
   ]
  },
  {
   "cell_type": "markdown",
   "metadata": {},
   "source": [
    "列表是一种数据类型，用于存储一组有序的元素。列表使用方括号 [ ] 表示，其中的元素可以是任何类型的数据，包括数字、字符串、布尔值、甚至其他列表。  \n",
    "列表是可以改变的。"
   ]
  },
  {
   "cell_type": "code",
   "execution_count": 1,
   "metadata": {
    "tags": []
   },
   "outputs": [
    {
     "data": {
      "text/plain": [
       "['apple', 'banana', 'cherry', 'grape', 'pear']"
      ]
     },
     "execution_count": 1,
     "metadata": {},
     "output_type": "execute_result"
    }
   ],
   "source": [
    "# 列表用 [ ] 表示，列表中的元素以逗号, 相隔。\n",
    "fruits = [\"apple\", \"banana\", \"cherry\", \"grape\", \"pear\"]\n",
    "fruits"
   ]
  },
  {
   "cell_type": "code",
   "execution_count": 2,
   "metadata": {
    "tags": []
   },
   "outputs": [
    {
     "data": {
      "text/plain": [
       "'apple'"
      ]
     },
     "execution_count": 2,
     "metadata": {},
     "output_type": "execute_result"
    }
   ],
   "source": [
    "# 列表索引 Indexing\n",
    "# 索引从0开始，而不是从1开始\n",
    "fruits[0]"
   ]
  },
  {
   "cell_type": "code",
   "execution_count": 3,
   "metadata": {
    "tags": []
   },
   "outputs": [
    {
     "data": {
      "text/plain": [
       "'pear'"
      ]
     },
     "execution_count": 3,
     "metadata": {},
     "output_type": "execute_result"
    }
   ],
   "source": [
    "# 访问最后一个元素可以用-1\n",
    "fruits[-1]"
   ]
  },
  {
   "cell_type": "code",
   "execution_count": 4,
   "metadata": {
    "tags": []
   },
   "outputs": [
    {
     "data": {
      "text/plain": [
       "['apple', 'banana']"
      ]
     },
     "execution_count": 4,
     "metadata": {},
     "output_type": "execute_result"
    }
   ],
   "source": [
    "# 列表切片 Slice\n",
    "# 访问第一个到第三个元素，但是不包含第三个（含头不含尾）。\n",
    "# 请注意，fruits[2]表示的是第三个元素。\n",
    "fruits[0:2]\n"
   ]
  },
  {
   "cell_type": "code",
   "execution_count": 5,
   "metadata": {
    "tags": []
   },
   "outputs": [
    {
     "data": {
      "text/plain": [
       "['apple', 'banana', 'cherry', 'grape']"
      ]
     },
     "execution_count": 5,
     "metadata": {},
     "output_type": "execute_result"
    }
   ],
   "source": [
    "# 访问列表中到最后一个元素，但是不包含最后一个。\n",
    "fruits[:-1] "
   ]
  },
  {
   "cell_type": "code",
   "execution_count": 6,
   "metadata": {
    "tags": []
   },
   "outputs": [
    {
     "data": {
      "text/plain": [
       "['apple', 'cherry', 'pear']"
      ]
     },
     "execution_count": 6,
     "metadata": {},
     "output_type": "execute_result"
    }
   ],
   "source": [
    "# list[start:stop:step]\n",
    "# step是步进值，表示每隔X个，取一个值\n",
    "fruits[::2]"
   ]
  },
  {
   "cell_type": "code",
   "execution_count": 7,
   "metadata": {
    "tags": []
   },
   "outputs": [
    {
     "data": {
      "text/plain": [
       "['apple', 'banana', 'cherry', 'grape', 'pear', 'watermelon']"
      ]
     },
     "execution_count": 7,
     "metadata": {},
     "output_type": "execute_result"
    }
   ],
   "source": [
    "# list.append方法 向列表末尾添加元素 \n",
    "fruits.append(\"watermelon\")\n",
    "fruits"
   ]
  },
  {
   "cell_type": "code",
   "execution_count": 8,
   "metadata": {
    "tags": []
   },
   "outputs": [
    {
     "data": {
      "text/plain": [
       "['apple',\n",
       " 'banana',\n",
       " 'cherry',\n",
       " 'grape',\n",
       " 'pear',\n",
       " 'watermelon',\n",
       " 2,\n",
       " 5,\n",
       " 7,\n",
       " 213,\n",
       " 54,\n",
       " 235,\n",
       " 63,\n",
       " 84]"
      ]
     },
     "execution_count": 8,
     "metadata": {},
     "output_type": "execute_result"
    }
   ],
   "source": [
    "# list.extend() 向列表添加多个元素, 也可以说是向列表添加列表\n",
    "fruits.extend([2, 5, 7, 213, 54, 235, 63, 84])\n",
    "fruits"
   ]
  },
  {
   "cell_type": "markdown",
   "metadata": {},
   "source": [
    "list.append()和list.extend()主要区别在于前者向列表添加单个元素，后者向列表添加多个元素（或者列表）"
   ]
  },
  {
   "cell_type": "code",
   "execution_count": 9,
   "metadata": {
    "tags": []
   },
   "outputs": [
    {
     "data": {
      "text/plain": [
       "['apple',\n",
       " 'orange',\n",
       " 'banana',\n",
       " 'cherry',\n",
       " 'grape',\n",
       " 'pear',\n",
       " 'watermelon',\n",
       " 2,\n",
       " 5,\n",
       " 7,\n",
       " 213,\n",
       " 54,\n",
       " 235,\n",
       " 63,\n",
       " 84]"
      ]
     },
     "execution_count": 9,
     "metadata": {},
     "output_type": "execute_result"
    }
   ],
   "source": [
    "# list.insert() 向列表指定位置添加元素\n",
    "# 在第二个位置上插入\"orange\"\n",
    "fruits.insert(1, \"orange\")\n",
    "fruits"
   ]
  },
  {
   "cell_type": "code",
   "execution_count": 10,
   "metadata": {
    "tags": []
   },
   "outputs": [
    {
     "data": {
      "text/plain": [
       "['orange',\n",
       " 'banana',\n",
       " 'cherry',\n",
       " 'grape',\n",
       " 'pear',\n",
       " 'watermelon',\n",
       " 2,\n",
       " 5,\n",
       " 7,\n",
       " 213,\n",
       " 54,\n",
       " 235,\n",
       " 63,\n",
       " 84]"
      ]
     },
     "execution_count": 10,
     "metadata": {},
     "output_type": "execute_result"
    }
   ],
   "source": [
    "# del语句 从列表删除指定位置的元素\n",
    "del fruits[0]\n",
    "fruits"
   ]
  },
  {
   "cell_type": "code",
   "execution_count": 11,
   "metadata": {
    "tags": []
   },
   "outputs": [
    {
     "data": {
      "text/plain": [
       "['banana',\n",
       " 'cherry',\n",
       " 'grape',\n",
       " 'pear',\n",
       " 'watermelon',\n",
       " 2,\n",
       " 5,\n",
       " 7,\n",
       " 213,\n",
       " 54,\n",
       " 235,\n",
       " 63,\n",
       " 84]"
      ]
     },
     "execution_count": 11,
     "metadata": {},
     "output_type": "execute_result"
    }
   ],
   "source": [
    "# list.remove()方法 移除列表中的指定元素\n",
    "fruits.remove(\"orange\")\n",
    "fruits"
   ]
  },
  {
   "cell_type": "code",
   "execution_count": 12,
   "metadata": {
    "tags": []
   },
   "outputs": [
    {
     "name": "stdout",
     "output_type": "stream",
     "text": [
      "['banana', 'grape', 'pear', 'watermelon', 2, 5, 7, 213, 54, 235, 63, 84] \n",
      " cherry\n"
     ]
    }
   ],
   "source": [
    "# list.pop()方法 移除列表中的指定位置的元素，并返回该元素\n",
    "the_returned_value = fruits.pop(1)\n",
    "print(fruits, \"\\n\", the_returned_value)"
   ]
  },
  {
   "cell_type": "code",
   "execution_count": 13,
   "metadata": {
    "tags": []
   },
   "outputs": [
    {
     "data": {
      "text/plain": [
       "[2, 5, 7, 54, 63, 84, 213, 235]"
      ]
     },
     "execution_count": 13,
     "metadata": {},
     "output_type": "execute_result"
    }
   ],
   "source": [
    "# sort()方法 对列表排序, 默认为升序\n",
    "num_list = [2, 5, 7, 213, 54, 235, 63, 84]\n",
    "num_list.sort()\n",
    "num_list"
   ]
  },
  {
   "cell_type": "code",
   "execution_count": 14,
   "metadata": {
    "tags": []
   },
   "outputs": [
    {
     "data": {
      "text/plain": [
       "[235, 213, 84, 63, 54, 7, 5, 2]"
      ]
     },
     "execution_count": 14,
     "metadata": {},
     "output_type": "execute_result"
    }
   ],
   "source": [
    "# 传入reverse使列表改为降序\n",
    "num_list.sort(reverse = True)\n",
    "num_list"
   ]
  },
  {
   "cell_type": "code",
   "execution_count": 15,
   "metadata": {
    "tags": []
   },
   "outputs": [
    {
     "name": "stdout",
     "output_type": "stream",
     "text": [
      "[235, 213, 84, 63, 54, 7, 5, 2] \n",
      " [2, 5, 7, 213, 54, 235, 63, 84]\n"
     ]
    }
   ],
   "source": [
    "# list.sort() 会永久性改变列表的元素排序\n",
    "# 如果不想改变列表内元素本身的位置，又想以升降序的方式呈现，可以用sorted函数。\n",
    "num_list = [2, 5, 7, 213, 54, 235, 63, 84]\n",
    "print(sorted(num_list, reverse = True), \"\\n\", num_list)"
   ]
  },
  {
   "cell_type": "code",
   "execution_count": 16,
   "metadata": {
    "tags": []
   },
   "outputs": [
    {
     "data": {
      "text/plain": [
       "[84, 63, 235, 54, 213, 7, 5, 2]"
      ]
     },
     "execution_count": 16,
     "metadata": {},
     "output_type": "execute_result"
    }
   ],
   "source": [
    "# list.reverse() 倒着输出列表内元素\n",
    "num_list.reverse()\n",
    "num_list"
   ]
  },
  {
   "cell_type": "code",
   "execution_count": 17,
   "metadata": {
    "tags": []
   },
   "outputs": [
    {
     "data": {
      "text/plain": [
       "8"
      ]
     },
     "execution_count": 17,
     "metadata": {},
     "output_type": "execute_result"
    }
   ],
   "source": [
    "# len()函数获取列表长度，即元素的个数\n",
    "len(num_list)"
   ]
  },
  {
   "cell_type": "markdown",
   "metadata": {},
   "source": [
    "# List进阶"
   ]
  },
  {
   "cell_type": "code",
   "execution_count": 18,
   "metadata": {
    "tags": []
   },
   "outputs": [
    {
     "data": {
      "text/plain": [
       "[2, 5, 7, 54, 63, 84, 213, 235]"
      ]
     },
     "execution_count": 18,
     "metadata": {},
     "output_type": "execute_result"
    }
   ],
   "source": [
    "num_list.sort()\n",
    "num_list"
   ]
  },
  {
   "cell_type": "code",
   "execution_count": 19,
   "metadata": {
    "tags": []
   },
   "outputs": [
    {
     "data": {
      "text/plain": [
       "3"
      ]
     },
     "execution_count": 19,
     "metadata": {},
     "output_type": "execute_result"
    }
   ],
   "source": [
    "# bisect 是 Python 标准库中的一个模块，它提供了对排序列表执行二分法搜索的函数\n",
    "import bisect\n",
    "# bisect.bisect 寻找并返回元素应当插入的位置\n",
    "bisect.bisect(num_list, 10)"
   ]
  },
  {
   "cell_type": "code",
   "execution_count": 20,
   "metadata": {
    "tags": []
   },
   "outputs": [
    {
     "data": {
      "text/plain": [
       "[2, 5, 7, 10, 54, 63, 84, 213, 235]"
      ]
     },
     "execution_count": 20,
     "metadata": {},
     "output_type": "execute_result"
    }
   ],
   "source": [
    "# bisect.insort() 将元素插入到目标列表中相应的位置\n",
    "bisect.insort(num_list, 10)\n",
    "num_list"
   ]
  },
  {
   "cell_type": "markdown",
   "metadata": {},
   "source": [
    "# Data Structure 数据结构 - Tuple\n",
    "\n",
    "Tuple元组也是python中的一个有序数据类型。\n",
    "\n",
    "Tuple和List很相似，使用( )表示，和list最大的区别是tuple中元素不能修改。"
   ]
  },
  {
   "cell_type": "code",
   "execution_count": 21,
   "metadata": {
    "tags": []
   },
   "outputs": [],
   "source": [
    "tuple1 = (\"strawberry\", \"orange\", \"mango\", \"cherry\")"
   ]
  },
  {
   "cell_type": "code",
   "execution_count": 22,
   "metadata": {
    "tags": []
   },
   "outputs": [
    {
     "data": {
      "text/plain": [
       "'strawberry'"
      ]
     },
     "execution_count": 22,
     "metadata": {},
     "output_type": "execute_result"
    }
   ],
   "source": [
    "tuple1[0]"
   ]
  },
  {
   "cell_type": "code",
   "execution_count": 23,
   "metadata": {
    "tags": []
   },
   "outputs": [
    {
     "ename": "TypeError",
     "evalue": "'tuple' object does not support item assignment",
     "output_type": "error",
     "traceback": [
      "\u001b[1;31m---------------------------------------------------------------------------\u001b[0m",
      "\u001b[1;31mTypeError\u001b[0m                                 Traceback (most recent call last)",
      "Cell \u001b[1;32mIn[23], line 2\u001b[0m\n\u001b[0;32m      1\u001b[0m \u001b[38;5;66;03m# tuple 内元素不可修改\u001b[39;00m\n\u001b[1;32m----> 2\u001b[0m \u001b[43mtuple1\u001b[49m\u001b[43m[\u001b[49m\u001b[38;5;241;43m0\u001b[39;49m\u001b[43m]\u001b[49m \u001b[38;5;241m=\u001b[39m \u001b[38;5;124m\"\u001b[39m\u001b[38;5;124mkiwi\u001b[39m\u001b[38;5;124m\"\u001b[39m\n",
      "\u001b[1;31mTypeError\u001b[0m: 'tuple' object does not support item assignment"
     ]
    }
   ],
   "source": [
    "# tuple 内元素不可修改\n",
    "tuple1[0] = \"kiwi\""
   ]
  },
  {
   "cell_type": "markdown",
   "metadata": {},
   "source": [
    "Tuple内部的元素不可变，但是tuple可以包含可变的数据结构，例如list, dict."
   ]
  },
  {
   "cell_type": "code",
   "execution_count": 24,
   "metadata": {
    "tags": []
   },
   "outputs": [
    {
     "data": {
      "text/plain": [
       "('pineapple', ['lemon', 'raspberry', 'peach', 'coconut'])"
      ]
     },
     "execution_count": 24,
     "metadata": {},
     "output_type": "execute_result"
    }
   ],
   "source": [
    "tuple2 = (\"pineapple\", [\"lemon\", \"raspberry\", \"peach\"])\n",
    "\n",
    "# 通过修改tuple内的list列表，改变tuple内的数据。\n",
    "tuple2[1].append(\"coconut\")\n",
    "\n",
    "tuple2"
   ]
  },
  {
   "cell_type": "markdown",
   "metadata": {},
   "source": [
    "那么，tuple的不可变性质到底是什么意思呢？\n",
    "\n",
    "从表面上看，tuple2的内部数据发生了变化，但实际上tuple的不可变性质，指的是tuple内部的每个元素指向性不变，即tuple内存储的是元素的地址，这有点类似于C++指针。\n",
    "\n",
    "如果tuple内部存储的元素是不可变的，那么元素就不可变。\n",
    "\n",
    "如果内部存储的元素是可变的，那么tuple不能改变的是指向这个元素的存储地址，而该可变元素的内部是可以发生变化的。"
   ]
  },
  {
   "cell_type": "markdown",
   "metadata": {},
   "source": [
    "# Summary"
   ]
  },
  {
   "cell_type": "markdown",
   "metadata": {},
   "source": [
    "* list indexing 索引\n",
    "\n",
    "*  del list[x]\n",
    "\n",
    "* list.append()\n",
    "\n",
    "* list.insert()\n",
    "\n",
    "* list.remove()\n",
    "\n",
    "* list.pop()\n",
    "\n",
    "* list.extend()\n",
    "\n",
    "* list.sort()\n",
    "\n",
    "* sorted(list)\n",
    "\n",
    "* list.reverse()\n",
    "\n",
    "* len(list)\n",
    "\n",
    "* bisect.bisect()\n",
    "\n",
    "* bisect.insort()\n",
    "\n",
    "* tuple的不可变性质"
   ]
  }
 ],
 "metadata": {
  "kernelspec": {
   "display_name": "Python 3 (ipykernel)",
   "language": "python",
   "name": "python3"
  },
  "language_info": {
   "codemirror_mode": {
    "name": "ipython",
    "version": 3
   },
   "file_extension": ".py",
   "mimetype": "text/x-python",
   "name": "python",
   "nbconvert_exporter": "python",
   "pygments_lexer": "ipython3",
   "version": "3.10.9"
  }
 },
 "nbformat": 4,
 "nbformat_minor": 4
}
