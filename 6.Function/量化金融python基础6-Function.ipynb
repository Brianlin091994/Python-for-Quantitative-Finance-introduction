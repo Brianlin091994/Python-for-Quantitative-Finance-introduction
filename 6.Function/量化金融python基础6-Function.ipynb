{
 "cells": [
  {
   "attachments": {},
   "cell_type": "markdown",
   "id": "0a68e5c3-b226-4a02-8d30-05d39bd7d441",
   "metadata": {
    "tags": []
   },
   "source": [
    "# Function 函数"
   ]
  },
  {
   "attachments": {},
   "cell_type": "markdown",
   "id": "ab1a29d6",
   "metadata": {},
   "source": [
    "函数是用来执行特定任务的代码块，\n",
    "\n",
    "特别是需要多次重复执行某项特定工作时，\n",
    "\n",
    "调用封装好的函数，可以使程序更容易读写、测试和维护。"
   ]
  },
  {
   "attachments": {},
   "cell_type": "markdown",
   "id": "4d510489",
   "metadata": {},
   "source": [
    "## 1. Introduction to Function"
   ]
  },
  {
   "cell_type": "code",
   "execution_count": 1,
   "id": "48274878",
   "metadata": {},
   "outputs": [],
   "source": [
    "# 定义一个函数，计算默认窗口期为5的移动平均数\n",
    "\n",
    "def find_rolling_mean(prices: list, window_size: int = 5):\n",
    "    rolling_means = []\n",
    "    for i in range(len(prices) - window_size + 1):\n",
    "        price_piece = prices[i:i+window_size]\n",
    "        mean = sum(price_piece) / window_size\n",
    "        rolling_means.append(mean)\n",
    "    \n",
    "    return rolling_means"
   ]
  },
  {
   "cell_type": "code",
   "execution_count": 2,
   "id": "df45758b",
   "metadata": {},
   "outputs": [],
   "source": [
    "prices = [20, 3, 5, 8, 7, 52, 6, 45]\n",
    "window_size = 5\n"
   ]
  },
  {
   "cell_type": "code",
   "execution_count": 3,
   "id": "467ef269",
   "metadata": {},
   "outputs": [
    {
     "data": {
      "text/plain": [
       "[8.6, 15.0, 15.6, 23.6]"
      ]
     },
     "execution_count": 3,
     "metadata": {},
     "output_type": "execute_result"
    }
   ],
   "source": [
    "find_rolling_mean(prices, window_size)"
   ]
  },
  {
   "attachments": {},
   "cell_type": "markdown",
   "id": "53b15de1",
   "metadata": {},
   "source": [
    "## 2. 匿名函数lambda \n"
   ]
  },
  {
   "attachments": {},
   "cell_type": "markdown",
   "id": "8695b949",
   "metadata": {},
   "source": [
    "lambda在基础4的课程中介绍过，  \n",
    "这里可以lambda简化函数"
   ]
  },
  {
   "cell_type": "code",
   "execution_count": 4,
   "id": "ab8e666a",
   "metadata": {},
   "outputs": [
    {
     "data": {
      "text/plain": [
       "[8.6, 15.0, 15.6, 23.6]"
      ]
     },
     "execution_count": 4,
     "metadata": {},
     "output_type": "execute_result"
    }
   ],
   "source": [
    "def find_rolling_mean2(prices: list, window_size: int):\n",
    "    rolling_means = []\n",
    "    average = lambda price_piece: sum(price_piece) / len(price_piece)\n",
    "    for i in range(len(prices) - window_size + 1):\n",
    "        rolling_means.append(average(prices[i: i+window_size]))\n",
    "    \n",
    "    return rolling_means\n",
    "\n",
    "find_rolling_mean2(prices, window_size)"
   ]
  },
  {
   "cell_type": "code",
   "execution_count": 5,
   "id": "1e7a964c",
   "metadata": {},
   "outputs": [
    {
     "data": {
      "text/plain": [
       "[8.6, 15.0, 15.6, 23.6]"
      ]
     },
     "execution_count": 5,
     "metadata": {},
     "output_type": "execute_result"
    }
   ],
   "source": [
    "# simplyfy further\n",
    "# function: find_rolling_mean3\n",
    "[(lambda price_piece: sum(price_piece) / window_size)(prices[i:i+window_size])\\\n",
    " for i in range(len(prices) - window_size + 1)]\n",
    "# lambda函数内输入一个price_piece变量\n",
    "# 该变量在第二个小括号内，指代prices[i:i+window_size]\n",
    "# 在lambda函数内计算prices[i::i+window_size]的平均价格 "
   ]
  },
  {
   "attachments": {},
   "cell_type": "markdown",
   "id": "c195023b",
   "metadata": {},
   "source": [
    "## 3. 输入任意数量参数 Arbitrary number of arguments"
   ]
  },
  {
   "attachments": {},
   "cell_type": "markdown",
   "id": "27d287fe",
   "metadata": {},
   "source": [
    "一次性求多个窗口期的滚动平均"
   ]
  },
  {
   "cell_type": "code",
   "execution_count": 6,
   "id": "e69bdaa9",
   "metadata": {},
   "outputs": [],
   "source": [
    "def find_rolling_means(prices: list, *window_sizes):\n",
    "    # window_sizes是一个元组tuple，可以存放多个窗口周期用于计算。\n",
    "    rolling_means: dict[int, list] = {}\n",
    "    for window_size in window_sizes:\n",
    "        rolling_means[window_size] = []\n",
    "        for i in range(len(prices) - window_size + 1):\n",
    "            price_piece = prices[i:i+window_size]\n",
    "            mean = sum(price_piece) / window_size\n",
    "            rolling_means[window_size].append(mean)\n",
    "        \n",
    "    return rolling_means"
   ]
  },
  {
   "cell_type": "code",
   "execution_count": 7,
   "id": "5ed3fa89",
   "metadata": {},
   "outputs": [
    {
     "data": {
      "text/plain": [
       "{3: [9.333333333333334,\n",
       "  5.333333333333333,\n",
       "  6.666666666666667,\n",
       "  22.333333333333332,\n",
       "  21.666666666666668,\n",
       "  34.333333333333336],\n",
       " 4: [9.0, 5.75, 18.0, 18.25, 27.5],\n",
       " 5: [8.6, 15.0, 15.6, 23.6]}"
      ]
     },
     "execution_count": 7,
     "metadata": {},
     "output_type": "execute_result"
    }
   ],
   "source": [
    "window_sizes = (3, 4, 5)\n",
    "\n",
    "find_rolling_means(prices, *window_sizes)"
   ]
  },
  {
   "cell_type": "code",
   "execution_count": 8,
   "id": "3e98be16",
   "metadata": {},
   "outputs": [],
   "source": [
    "# 偷个懒可以直接调用第一个定义的函数，find_rolling_mean.\n",
    "def find_rolling_means2(prices: list, *window_sizes):\n",
    "    rolling_means: dict[int, list] = {}\n",
    "    for window_size in window_sizes:\n",
    "        rolling_means[window_size] = find_rolling_mean(prices, window_size)\n",
    "\n",
    "    return rolling_means"
   ]
  },
  {
   "cell_type": "code",
   "execution_count": 9,
   "id": "9eb8abf2",
   "metadata": {},
   "outputs": [
    {
     "data": {
      "text/plain": [
       "{3: [9.333333333333334,\n",
       "  5.333333333333333,\n",
       "  6.666666666666667,\n",
       "  22.333333333333332,\n",
       "  21.666666666666668,\n",
       "  34.333333333333336],\n",
       " 4: [9.0, 5.75, 18.0, 18.25, 27.5],\n",
       " 5: [8.6, 15.0, 15.6, 23.6]}"
      ]
     },
     "execution_count": 9,
     "metadata": {},
     "output_type": "execute_result"
    }
   ],
   "source": [
    "find_rolling_means2(prices, *window_sizes)"
   ]
  },
  {
   "attachments": {},
   "cell_type": "markdown",
   "id": "8f19ff65",
   "metadata": {},
   "source": [
    "## 4. 任意数量的键参数 Arbitrary key arguments"
   ]
  },
  {
   "cell_type": "code",
   "execution_count": 10,
   "id": "7c9b4057",
   "metadata": {},
   "outputs": [],
   "source": [
    "import math\n",
    "\n",
    "def find_indicators(prices: list, **kwargs):\n",
    "# kwargs全称是 keyword arguments, \n",
    "# 它是一个字典，字典的key是变量名，字典的value存放参数。     \n",
    "    if \"ma\" in kwargs:\n",
    "        window = kwargs[\"ma\"]\n",
    "        ma = sum(prices[-window:]) / window\n",
    "        print(f\"Moving Average ({window}) is {ma}\")\n",
    "\n",
    "    if \"volatility\" in kwargs:\n",
    "        window = kwargs['volatility']\n",
    "        mean = sum(prices) / len(prices)\n",
    "        squared_diff_sum = sum((price - mean) ** 2 for price in prices)\n",
    "        mean_squared_diff = squared_diff_sum / len(prices)\n",
    "        volatility = math.sqrt(mean_squared_diff)\n",
    "        print(f\"Volatility of {window} is {volatility}\")\n",
    "    \n"
   ]
  },
  {
   "cell_type": "code",
   "execution_count": 11,
   "id": "72685052",
   "metadata": {},
   "outputs": [
    {
     "name": "stdout",
     "output_type": "stream",
     "text": [
      "Moving Average (5) is 23.6\n",
      "Volatility of 4 is 18.191687662226393\n"
     ]
    }
   ],
   "source": [
    "parameters = {\"ma\": 5, \"volatility\": 4}\n",
    "find_indicators(prices, **parameters)"
   ]
  },
  {
   "attachments": {},
   "cell_type": "markdown",
   "id": "76b8f2a9",
   "metadata": {},
   "source": [
    "## 5. 导入函数 Import function"
   ]
  },
  {
   "attachments": {},
   "cell_type": "markdown",
   "id": "db09a36a",
   "metadata": {},
   "source": [
    "将函数 find_indicators 保存到名为function.py的文件内。\n",
    "\n",
    "通过导入模块的方式，把function.py文件内容导入到当前程序，实现调用不同.py文件的函数功能。"
   ]
  },
  {
   "cell_type": "code",
   "execution_count": 12,
   "id": "0597e208",
   "metadata": {},
   "outputs": [
    {
     "name": "stdout",
     "output_type": "stream",
     "text": [
      "Moving Average (5) is 23.6\n",
      "Volatility of 4 is 18.191687662226393\n"
     ]
    }
   ],
   "source": [
    "import function\n",
    "function.find_indicators(prices, **parameters)"
   ]
  },
  {
   "cell_type": "code",
   "execution_count": 13,
   "id": "ce959bff",
   "metadata": {},
   "outputs": [
    {
     "name": "stdout",
     "output_type": "stream",
     "text": [
      "Moving Average (5) is 23.6\n",
      "Volatility of 4 is 18.191687662226393\n"
     ]
    }
   ],
   "source": [
    "# 给导入的模块起别名\n",
    "import function as f\n",
    "f.find_indicators(prices, **parameters)"
   ]
  },
  {
   "cell_type": "code",
   "execution_count": 14,
   "id": "15bb8371",
   "metadata": {},
   "outputs": [
    {
     "name": "stdout",
     "output_type": "stream",
     "text": [
      "Moving Average (5) is 23.6\n",
      "Volatility of 4 is 18.191687662226393\n"
     ]
    }
   ],
   "source": [
    "# 导入模块内特定的函数\n",
    "from function import find_indicators\n",
    "find_indicators(prices, **parameters)"
   ]
  },
  {
   "cell_type": "code",
   "execution_count": 15,
   "id": "3e574495",
   "metadata": {},
   "outputs": [
    {
     "name": "stdout",
     "output_type": "stream",
     "text": [
      "Moving Average (5) is 23.6\n",
      "Volatility of 4 is 18.191687662226393\n"
     ]
    }
   ],
   "source": [
    "# 导入模块内所有的函数\n",
    "# 不推荐该用法，假设模块内有大量函数，容易和主程序出现函数或者变量名重复。\n",
    "\n",
    "from function import *\n",
    "find_indicators(prices, **parameters)"
   ]
  },
  {
   "attachments": {},
   "cell_type": "markdown",
   "id": "2ad5c256",
   "metadata": {},
   "source": [
    "## 6. 将函数作为对象使用，Function as objects"
   ]
  },
  {
   "attachments": {},
   "cell_type": "markdown",
   "id": "c6748cca",
   "metadata": {},
   "source": [
    "程序化交易中，交易所对期货合约代码有各自的规范要求。\n",
    "\n",
    "其中上期所、上期所能源中心和大商所要求合约代码字母小写，\n",
    "\n",
    "中金所和郑商所要求合约代码字母大写，\n",
    "\n",
    "且郑商所对合约数字部分要求为3位，其余交易所要求为4位。\n",
    "\n",
    "以上要求导致程序化交易过程中，需要对期货合约名称进行清洗，以符合规范。\n",
    "\n",
    "下方用代码简单演示过程。"
   ]
  },
  {
   "cell_type": "code",
   "execution_count": 16,
   "id": "b7a9d7bd",
   "metadata": {},
   "outputs": [],
   "source": [
    "# 根据以上要求，先对合约字母部分作清洗，然后清理郑商所合约的数字长度。\n",
    "\n",
    "import re # 正则表达式模块，针对字符串的识别、修改。\n",
    "\n",
    "futures_contracts = [\"RB2310.shfe\", \"m2309.DCE\", \"Ic2309.Cffex\", \"sr2309.CZCE\", \"LU2309.INE\"]\n",
    "\n",
    "def clean_symbol(contract):\n",
    "\tuppercase_exchange = [\"CZCE\", \"CFFEX\"]\n",
    "\tlowercase_exchange = [\"SHFE\", \"DCE\", \"INE\"]\n",
    "\tsymbol, exchange = contract.split(\".\")\n",
    "\tif exchange.upper() in uppercase_exchange:\n",
    "\t\tcontract = \".\".join([symbol.upper(), exchange.upper()])\n",
    "\telif exchange.upper() in lowercase_exchange:\n",
    "\t\tcontract = \".\".join([symbol.lower(), exchange.upper()])\n",
    "\treturn contract\n",
    "\n",
    "def clean_CZCE(contract):\n",
    "\tsymbol, exchange = contract.split(\".\")\n",
    "\tif exchange == \"CZCE\":\n",
    "\t\t# 对于郑商所的期货品种，识别保留其字母部分，取数字部分的后三位拼接。\n",
    "\t\tsymbol = re.findall(r\"[A-Za-z]+\", symbol)[0] + re.findall(r\"\\d{3}$\", symbol)[0]\n",
    "\t\tcontract = \".\".join([symbol, exchange])\n",
    "\treturn contract"
   ]
  },
  {
   "cell_type": "code",
   "execution_count": 17,
   "id": "7255f3e7",
   "metadata": {},
   "outputs": [
    {
     "name": "stdout",
     "output_type": "stream",
     "text": [
      "rb2310.SHFE\n",
      "m2309.DCE\n",
      "IC2309.CFFEX\n",
      "SR309.CZCE\n",
      "lu2309.INE\n"
     ]
    }
   ],
   "source": [
    "for i in futures_contracts:\n",
    "\tprint(clean_CZCE(clean_symbol(i)))"
   ]
  },
  {
   "cell_type": "code",
   "execution_count": 18,
   "id": "16726c45",
   "metadata": {},
   "outputs": [
    {
     "name": "stdout",
     "output_type": "stream",
     "text": [
      "rb2310.SHFE\n",
      "m2309.DCE\n",
      "IC2309.CFFEX\n",
      "SR309.CZCE\n",
      "lu2309.INE\n"
     ]
    }
   ],
   "source": [
    "# 将函数作为对象遍历\n",
    "# 这么做的好处是能够更加清楚地看到合约清洗的过程步骤，且更加方便后期维护 \n",
    "clean_processes = [clean_symbol, clean_CZCE]\n",
    "for i in futures_contracts:\n",
    "    for process in clean_processes:\n",
    "        i = process(i)\n",
    "    print(i)"
   ]
  },
  {
   "attachments": {},
   "cell_type": "markdown",
   "id": "9ca76e3f",
   "metadata": {},
   "source": [
    "## 7. Generator生成器"
   ]
  },
  {
   "attachments": {},
   "cell_type": "markdown",
   "id": "b8fea6a5",
   "metadata": {},
   "source": [
    "函数在运行时会事先将所有的值存储在内存中，如果prices是一个非常大的列表，那么运行find_rolling_mean将会占用大量资源。  \n",
    "\n",
    "python有一种特殊类型的函数，Generator生成器，它可以通过返回一个迭代器的方式，避免计算资源的大量使用。  \n",
    "\n",
    "生成器函数被定义之后，可以用next()手动获取生成器的值，也可以用for循环遍历。\n",
    "\n",
    "将 find_rolling_mean 改写成一个生成器作例子。删除function內部的列表，将 return 改写成 yield。"
   ]
  },
  {
   "cell_type": "code",
   "execution_count": 19,
   "id": "88ce5e6f",
   "metadata": {},
   "outputs": [],
   "source": [
    "def rolling_means_generator(prices: list, window_size: int):\n",
    "    for i in range(len(prices) - window_size + 1):\n",
    "        price_piece = prices[i:i+window_size]\n",
    "        mean = sum(price_piece) / window_size\n",
    "        \n",
    "        yield mean"
   ]
  },
  {
   "cell_type": "code",
   "execution_count": 20,
   "id": "4805c0fa",
   "metadata": {},
   "outputs": [
    {
     "data": {
      "text/plain": [
       "8.6"
      ]
     },
     "execution_count": 20,
     "metadata": {},
     "output_type": "execute_result"
    }
   ],
   "source": [
    "# 手动获取生成器的值\n",
    "generator = rolling_means_generator(prices, window_size)\n",
    "next(generator)"
   ]
  },
  {
   "cell_type": "code",
   "execution_count": 21,
   "metadata": {},
   "outputs": [
    {
     "data": {
      "text/plain": [
       "15.0"
      ]
     },
     "execution_count": 21,
     "metadata": {},
     "output_type": "execute_result"
    }
   ],
   "source": [
    "next(generator)"
   ]
  },
  {
   "attachments": {},
   "cell_type": "markdown",
   "id": "bed1fefd",
   "metadata": {},
   "source": [
    "然而，当generator遍历完，没有更多值可生成时，会引发 StopIteration 异常\n",
    "\n",
    "为了避免出现这种问题，可以使用for循环代替"
   ]
  },
  {
   "cell_type": "code",
   "execution_count": 22,
   "id": "f9e91ea3",
   "metadata": {},
   "outputs": [
    {
     "name": "stdout",
     "output_type": "stream",
     "text": [
      "15.6\n",
      "23.6\n"
     ]
    }
   ],
   "source": [
    "# for循环会接上之前的结果。\n",
    "for mean in generator:\n",
    "    print(mean)"
   ]
  },
  {
   "attachments": {},
   "cell_type": "markdown",
   "id": "ab922742",
   "metadata": {},
   "source": [
    "生成器还可以用表达式定义 Generator Expression。  \n",
    "和列表解析式的区别就在于，GE用的是小括号。"
   ]
  },
  {
   "cell_type": "code",
   "execution_count": 23,
   "id": "c2d186bb",
   "metadata": {},
   "outputs": [],
   "source": [
    "rolling_means_generator2 = (\n",
    "    (lambda price_piece: sum(price_piece) / window_size)(prices[i: i+window_size])\\\n",
    "  for i in range(len(prices) - window_size + 1)\n",
    ")"
   ]
  },
  {
   "cell_type": "code",
   "execution_count": 24,
   "id": "b2506059",
   "metadata": {},
   "outputs": [
    {
     "data": {
      "text/plain": [
       "8.6"
      ]
     },
     "execution_count": 24,
     "metadata": {},
     "output_type": "execute_result"
    }
   ],
   "source": [
    "next(rolling_means_generator2)"
   ]
  },
  {
   "attachments": {},
   "cell_type": "markdown",
   "id": "89a045ba",
   "metadata": {},
   "source": [
    "## 8. 异常处理\n"
   ]
  },
  {
   "cell_type": "code",
   "execution_count": 25,
   "id": "5ea4b604",
   "metadata": {},
   "outputs": [
    {
     "name": "stdout",
     "output_type": "stream",
     "text": [
      "8.6\n",
      "15.0\n",
      "15.6\n",
      "23.6\n",
      "Iteration terminated\n"
     ]
    }
   ],
   "source": [
    "# 使用 next() 访问生成器，在一次遍历结束后会报错，\n",
    "# 为了防止StopIteration出现，除了for循环，还可以用try-except组合，对报错情况进行处理\n",
    "\n",
    "generator = rolling_means_generator(prices, window_size)\n",
    "\n",
    "try:\n",
    "    while True:\n",
    "        mean = next(generator)\n",
    "        print(mean)\n",
    "except StopIteration: # 如果出现遍历完成之后的报错\n",
    "    print(\"Iteration terminated\")\n",
    "    pass\n"
   ]
  },
  {
   "attachments": {},
   "cell_type": "markdown",
   "id": "52664b68-7163-46d9-90d3-8512c3b847e7",
   "metadata": {},
   "source": [
    "# Summary\n"
   ]
  },
  {
   "attachments": {},
   "cell_type": "markdown",
   "id": "a0dbce72-4411-44ed-b239-35d5a7a07f77",
   "metadata": {},
   "source": [
    "* 函数简介 \n",
    "  \n",
    "* lambda匿名函数 \n",
    "\n",
    "* 任意数量参数 *variables\n",
    "\n",
    "* 任意数量键参数 **kwargs\n",
    "  \n",
    "* 导入模块 import function\n",
    "  \n",
    "* 函数作为对象使用\n",
    "  \n",
    "* 生成器 Generator\n",
    "  \n",
    "* 异常处理 try except"
   ]
  }
 ],
 "metadata": {
  "kernelspec": {
   "display_name": "Python 3 (ipykernel)",
   "language": "python",
   "name": "python3"
  },
  "language_info": {
   "codemirror_mode": {
    "name": "ipython",
    "version": 3
   },
   "file_extension": ".py",
   "mimetype": "text/x-python",
   "name": "python",
   "nbconvert_exporter": "python",
   "pygments_lexer": "ipython3",
   "version": "3.10.9"
  }
 },
 "nbformat": 4,
 "nbformat_minor": 5
}
