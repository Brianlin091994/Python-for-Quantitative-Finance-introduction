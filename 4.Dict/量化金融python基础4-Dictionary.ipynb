{
 "cells": [
  {
   "attachments": {},
   "cell_type": "markdown",
   "metadata": {},
   "source": [
    "# Data Structure 数据结构 - Dictionary 字典"
   ]
  },
  {
   "attachments": {},
   "cell_type": "markdown",
   "metadata": {},
   "source": [
    "字典是一种可变的数据结构，用于存储键值对 Key-Value。  \n",
    "结构类似于这种 Dict {Key: Value}  \n",
    "其中，键Key是唯一的，必须是不可变的类型，例如字符串、数字或元组等,   \n",
    "而值Value可以是任何类型的数据, 包括列表、元组、字典等等。"
   ]
  },
  {
   "cell_type": "code",
   "execution_count": 1,
   "metadata": {
    "tags": []
   },
   "outputs": [
    {
     "data": {
      "text/plain": [
       "{'c2309': 10, 'm2309': 10, 'lh2309': 16, 'pp2309': 5, 'i2309': 100}"
      ]
     },
     "execution_count": 1,
     "metadata": {},
     "output_type": "execute_result"
    }
   ],
   "source": [
    "# example for dictionary\n",
    "# 每个大宗商品的期货合约都有对应的合约交易单位，即一手合约对应多少量的标的物，可用字典来存储期货合约的对应交易单位。\n",
    "# 大商所\n",
    "contract_unit1 = {\n",
    "    \"c2309\": 10, # 玉米23年9月到期的期货合约。\n",
    "    \"m2309\": 10, # 豆粕\n",
    "    \"lh2309\": 16, # 生猪\n",
    "    \"pp2309\": 5, #聚丙烯\n",
    "    \"i2309\": 100, #铁矿石\n",
    "}\n",
    "# 郑商所\n",
    "contract_unit2 = {\n",
    "    \"AP310\": 10, # 苹果23年9月到期的期货合约\n",
    "    \"CF309\": 5, # 棉花\n",
    "    \"SA309\": 20, # 纯碱\n",
    "}\n",
    "\n",
    "contract_unit1"
   ]
  },
  {
   "cell_type": "code",
   "execution_count": 2,
   "metadata": {
    "tags": []
   },
   "outputs": [
    {
     "data": {
      "text/plain": [
       "10"
      ]
     },
     "execution_count": 2,
     "metadata": {},
     "output_type": "execute_result"
    }
   ],
   "source": [
    "# 访问字典内某键值\n",
    "contract_unit1['c2309']"
   ]
  },
  {
   "cell_type": "code",
   "execution_count": 3,
   "metadata": {
    "tags": []
   },
   "outputs": [
    {
     "ename": "KeyError",
     "evalue": "'c2310'",
     "output_type": "error",
     "traceback": [
      "\u001b[1;31m---------------------------------------------------------------------------\u001b[0m",
      "\u001b[1;31mKeyError\u001b[0m                                  Traceback (most recent call last)",
      "Cell \u001b[1;32mIn[3], line 2\u001b[0m\n\u001b[0;32m      1\u001b[0m \u001b[38;5;66;03m# 如果访问不存在的键key, 会报错\u001b[39;00m\n\u001b[1;32m----> 2\u001b[0m \u001b[43mcontract_unit1\u001b[49m\u001b[43m[\u001b[49m\u001b[38;5;124;43m'\u001b[39;49m\u001b[38;5;124;43mc2310\u001b[39;49m\u001b[38;5;124;43m'\u001b[39;49m\u001b[43m]\u001b[49m\n",
      "\u001b[1;31mKeyError\u001b[0m: 'c2310'"
     ]
    }
   ],
   "source": [
    "# 如果访问不存在的键key, 会报错\n",
    "contract_unit1['c2310']"
   ]
  },
  {
   "cell_type": "code",
   "execution_count": 4,
   "metadata": {
    "tags": []
   },
   "outputs": [
    {
     "name": "stdout",
     "output_type": "stream",
     "text": [
      "10\n",
      "no such key\n"
     ]
    }
   ],
   "source": [
    "# 也可以通过dict.get() 访问某键值， \n",
    "# 这样做的好处是 即使字典内不存在相应的键key，也不会报错\n",
    "# 而是返回第二个给定的参数，也叫 default value.\n",
    "\n",
    "print(contract_unit1.get(\"c2309\"))\n",
    "print(contract_unit1.get(\"c2305\", \"no such key\"))"
   ]
  },
  {
   "cell_type": "code",
   "execution_count": 5,
   "metadata": {
    "tags": []
   },
   "outputs": [
    {
     "data": {
      "text/plain": [
       "{'m2309': 10, 'lh2309': 16, 'pp2309': 5, 'i2309': 100}"
      ]
     },
     "execution_count": 5,
     "metadata": {},
     "output_type": "execute_result"
    }
   ],
   "source": [
    "# 使用del语句删除字典内某键值\n",
    "del contract_unit1['c2309']\n",
    "contract_unit1"
   ]
  },
  {
   "cell_type": "code",
   "execution_count": 6,
   "metadata": {
    "tags": []
   },
   "outputs": [
    {
     "data": {
      "text/plain": [
       "10"
      ]
     },
     "execution_count": 6,
     "metadata": {},
     "output_type": "execute_result"
    }
   ],
   "source": [
    "# dict.pop() 方法删除某键值并返回该内容\n",
    "m2309_trade_unit = contract_unit1.pop(\"m2309\")\n",
    "m2309_trade_unit"
   ]
  },
  {
   "cell_type": "code",
   "execution_count": 7,
   "metadata": {
    "tags": []
   },
   "outputs": [
    {
     "data": {
      "text/plain": [
       "{'lh2309': 16, 'pp2309': 5, 'i2309': 100}"
      ]
     },
     "execution_count": 7,
     "metadata": {},
     "output_type": "execute_result"
    }
   ],
   "source": [
    "# 使用pop方法之后\n",
    "contract_unit1"
   ]
  },
  {
   "cell_type": "code",
   "execution_count": 8,
   "metadata": {
    "tags": []
   },
   "outputs": [
    {
     "data": {
      "text/plain": [
       "{'lh2309': 16, 'pp2309': 5, 'i2309': 100, 'AP310': 10, 'CF309': 5, 'SA309': 20}"
      ]
     },
     "execution_count": 8,
     "metadata": {},
     "output_type": "execute_result"
    }
   ],
   "source": [
    "# 合并contract_unit1 and 2\n",
    "contract_unit_combined = contract_unit1.copy()\n",
    "contract_unit_combined.update(contract_unit2)\n",
    "contract_unit_combined\n",
    "# 注意： 对于相同的key，合并后value会被覆盖。"
   ]
  },
  {
   "cell_type": "code",
   "execution_count": 9,
   "metadata": {
    "tags": []
   },
   "outputs": [
    {
     "name": "stdout",
     "output_type": "stream",
     "text": [
      "lh2309\n",
      "pp2309\n",
      "i2309\n"
     ]
    }
   ],
   "source": [
    "# 通过dict.keys()遍历所有key\n",
    "for key in contract_unit1.keys():\n",
    "    print(key)\n"
   ]
  },
  {
   "cell_type": "code",
   "execution_count": 10,
   "metadata": {
    "tags": []
   },
   "outputs": [
    {
     "name": "stdout",
     "output_type": "stream",
     "text": [
      "16\n",
      "5\n",
      "100\n"
     ]
    }
   ],
   "source": [
    "# 通过dict.values()遍历所有value\n",
    "for value in contract_unit1.values():\n",
    "    print(value)\n"
   ]
  },
  {
   "cell_type": "code",
   "execution_count": 11,
   "metadata": {
    "tags": []
   },
   "outputs": [
    {
     "name": "stdout",
     "output_type": "stream",
     "text": [
      "lh2309 16\n",
      "pp2309 5\n",
      "i2309 100\n"
     ]
    }
   ],
   "source": [
    "# 通过dict.items()遍历所有的key-value\n",
    "for key, value in contract_unit1.items():\n",
    "    print(key, value)"
   ]
  },
  {
   "cell_type": "code",
   "execution_count": 12,
   "metadata": {
    "tags": []
   },
   "outputs": [
    {
     "data": {
      "text/plain": [
       "(('lh2309', 16), ('pp2309', 5), ('i2309', 100))"
      ]
     },
     "execution_count": 12,
     "metadata": {},
     "output_type": "execute_result"
    }
   ],
   "source": [
    "# 将字典转换成tuple\n",
    "\n",
    "tuple(contract_unit1.items())"
   ]
  },
  {
   "attachments": {},
   "cell_type": "markdown",
   "metadata": {},
   "source": [
    "# 字典进阶应用"
   ]
  },
  {
   "cell_type": "code",
   "execution_count": 13,
   "metadata": {
    "tags": []
   },
   "outputs": [
    {
     "name": "stdout",
     "output_type": "stream",
     "text": [
      "25\n"
     ]
    }
   ],
   "source": [
    "# sorted with dict.values 根据字典values排序\n",
    "\n",
    "# 进行这项任务之前先了解一下什么是 python lambda\n",
    "\"\"\"\n",
    "lambda 是 python中用于创建匿名函数。\n",
    "\n",
    "lambda arguments: expression\n",
    "- arguments 可以是一个或者多个函数参数，\n",
    "- expression 表示一个返回值的表达式\n",
    "\n",
    "\"\"\"\n",
    "# Example for lambda\n",
    "# 返回一个平方数\n",
    "square = lambda x: x*x\n",
    "\n",
    "print(square(5))\n",
    "\n"
   ]
  },
  {
   "cell_type": "code",
   "execution_count": 14,
   "metadata": {
    "tags": []
   },
   "outputs": [
    {
     "name": "stdout",
     "output_type": "stream",
     "text": [
      "[('pp2309', 5), ('lh2309', 16), ('i2309', 100)]\n",
      "{'pp2309': 5, 'lh2309': 16, 'i2309': 100}\n"
     ]
    }
   ],
   "source": [
    "# continue sorted with dict.values 根据字典值values排序\n",
    "\"\"\"\n",
    "sorted 是一个排序函数，key为一个函数，用于接收参数并返回用于排序的值\n",
    "\n",
    "在这里sorted key接收了一个lambda函数，这个lambda函数用于返回对象的第二个值\n",
    "\n",
    "字典在这里被当作一个元组tuple，tuple的第一个数为字典的键key， 第二个值为字典的值value\n",
    "\n",
    "所以对象contract_unit.items()被传入到sorted函数内后，再从lambda返回字典的值value用于排序，\n",
    "\n",
    "再整体输出排序完成的整个字典\n",
    "\"\"\"\n",
    "\n",
    "# 按字典value大小排序输出\n",
    "print(sorted(contract_unit1.items(), key = lambda d: d[1]))\n",
    "\n",
    "#重新以字典形式输出\n",
    "print(dict(sorted(contract_unit1.items(), key = lambda d: d[1])))\n",
    "\n",
    "\n"
   ]
  },
  {
   "cell_type": "code",
   "execution_count": 15,
   "metadata": {
    "tags": []
   },
   "outputs": [
    {
     "data": {
      "text/plain": [
       "{'i2309': 100, 'lh2309': 16, 'pp2309': 5}"
      ]
     },
     "execution_count": 15,
     "metadata": {},
     "output_type": "execute_result"
    }
   ],
   "source": [
    "# 修改上面的d[1] 成 d[0], 可以根据字典键keys进行排序\n",
    "# 这里按字母大小顺序排序\n",
    "\n",
    "dict(sorted(contract_unit1.items(), key = lambda d: d[0]))\n"
   ]
  },
  {
   "cell_type": "code",
   "execution_count": 16,
   "metadata": {
    "tags": []
   },
   "outputs": [
    {
     "name": "stdout",
     "output_type": "stream",
     "text": [
      "['lh2309', 'pp2309', 'i2309']\n",
      "[16, 5, 100]\n",
      "{'lh2309': 16, 'pp2309': 5, 'i2309': 100}\n"
     ]
    }
   ],
   "source": [
    "# 从两个列表, 利用列表解析式创建字典dict\n",
    "\n",
    "contract_unit1_keys = list(contract_unit1.keys())\n",
    "contract_unit1_values = list(contract_unit1.values())\n",
    "print(contract_unit1_keys)\n",
    "print(contract_unit1_values)\n",
    "# 创建dict\n",
    "contract_unit1_duplicate = {v:k for v,k in zip(contract_unit1_keys, contract_unit1_values)}\n",
    "print(contract_unit1_duplicate)"
   ]
  },
  {
   "cell_type": "code",
   "execution_count": 17,
   "metadata": {
    "tags": []
   },
   "outputs": [
    {
     "data": {
      "text/plain": [
       "{'c2309': -2, 'm2309': 3, 'pp2309': 0}"
      ]
     },
     "execution_count": 17,
     "metadata": {},
     "output_type": "execute_result"
    }
   ],
   "source": [
    "# example for dict.setdefault()\n",
    "\"\"\"\n",
    "假设某交易员当天交易记录如 trade_record所示\n",
    "trade_record保存每次交易的品种名称和买卖手数，正数为多头，负数为空头\n",
    "holding_position字典汇总交易结束后的持仓\n",
    "假设开盘前交易员持仓为零 \n",
    "\n",
    "创建一个名为 holding_position的空字典，通过for循环遍历每笔交易，\n",
    "如果对应品种名不在 holding_position中，创建一个默认值为0的新键key，\n",
    "后续再进行加减对应交易量\n",
    "\n",
    "如果不使用dict.setdefault()， 由于holding_position一开始是个空字典，\n",
    "默认情况下访问一个不存在的键key时，程序就会报错，所以这里使用setdefault使初始的默认持仓为零。\n",
    "\"\"\"\n",
    "\n",
    "trade_record = (\n",
    "    (\"c2309\", 2), \n",
    "    (\"m2309\", 3), \n",
    "    (\"pp2309\", 1), \n",
    "    (\"c2309\", -4), \n",
    "    (\"pp2309\", -1)\n",
    ")\n",
    "\n",
    "holding_position = {}\n",
    "for i in trade_record:\n",
    "    holding_position.setdefault(i[0], 0)\n",
    "    holding_position[i[0]] += i[1]\n",
    "\n",
    "holding_position"
   ]
  },
  {
   "cell_type": "code",
   "execution_count": 18,
   "metadata": {
    "tags": []
   },
   "outputs": [
    {
     "data": {
      "text/plain": [
       "defaultdict(int, {'c2309': -2, 'm2309': 3, 'pp2309': 0})"
      ]
     },
     "execution_count": 18,
     "metadata": {},
     "output_type": "execute_result"
    }
   ],
   "source": [
    "# 除了dict.setdefault方法外，还有defaultdict，\n",
    "# 它是一个内置的子类，位于collections module，它为不存在的键提供默认值。\n",
    "# defaultdict(int) 默认初始值为0， \n",
    "# 如果要从1开始，则使用defaultdict(lambda 1)\n",
    "\n",
    "from collections import defaultdict\n",
    "\n",
    "holding_position2 = defaultdict(int)\n",
    "for i in trade_record:\n",
    "    holding_position2[i[0]] += i[1]\n",
    "\n",
    "holding_position2"
   ]
  },
  {
   "attachments": {},
   "cell_type": "markdown",
   "metadata": {},
   "source": [
    "最后还要提醒的是字典的键key必须是不可变的，\n",
    "\n",
    "数字，布尔值bool，字符string，元组tuple是不可变的\n",
    "\n",
    "列表list，字典dict，集合set是可变的\n",
    "\n",
    "hash( ) 函数可以确定是否为不可变对象。"
   ]
  },
  {
   "cell_type": "code",
   "execution_count": 19,
   "metadata": {
    "tags": []
   },
   "outputs": [
    {
     "data": {
      "text/plain": [
       "{(2, 4): 2, 'hello': 'world'}"
      ]
     },
     "execution_count": 19,
     "metadata": {},
     "output_type": "execute_result"
    }
   ],
   "source": [
    "dict1 = {\n",
    "    (2, 4): 2,\n",
    "    \"hello\": \"world\"\n",
    "}\n",
    "dict1"
   ]
  },
  {
   "cell_type": "code",
   "execution_count": 20,
   "metadata": {
    "tags": []
   },
   "outputs": [
    {
     "ename": "TypeError",
     "evalue": "unhashable type: 'list'",
     "output_type": "error",
     "traceback": [
      "\u001b[1;31m---------------------------------------------------------------------------\u001b[0m",
      "\u001b[1;31mTypeError\u001b[0m                                 Traceback (most recent call last)",
      "Cell \u001b[1;32mIn[20], line 1\u001b[0m\n\u001b[1;32m----> 1\u001b[0m dict2 \u001b[38;5;241m=\u001b[39m {\n\u001b[0;32m      2\u001b[0m     [\u001b[38;5;241m2\u001b[39m, \u001b[38;5;241m4\u001b[39m]: \u001b[38;5;241m2\u001b[39m\n\u001b[0;32m      3\u001b[0m }\n",
      "\u001b[1;31mTypeError\u001b[0m: unhashable type: 'list'"
     ]
    }
   ],
   "source": [
    "# 可变的列表当key就会报错\n",
    "dict2 = {\n",
    "    [2, 4]: 2\n",
    "}"
   ]
  },
  {
   "cell_type": "code",
   "execution_count": 21,
   "metadata": {
    "tags": []
   },
   "outputs": [
    {
     "data": {
      "text/plain": [
       "33"
      ]
     },
     "execution_count": 21,
     "metadata": {},
     "output_type": "execute_result"
    }
   ],
   "source": [
    "hash(33)"
   ]
  },
  {
   "cell_type": "code",
   "execution_count": 22,
   "metadata": {
    "tags": []
   },
   "outputs": [
    {
     "data": {
      "text/plain": [
       "1673680036326662119"
      ]
     },
     "execution_count": 22,
     "metadata": {},
     "output_type": "execute_result"
    }
   ],
   "source": [
    "hash(\"hello\")"
   ]
  },
  {
   "cell_type": "code",
   "execution_count": 23,
   "metadata": {
    "tags": []
   },
   "outputs": [
    {
     "ename": "TypeError",
     "evalue": "unhashable type: 'list'",
     "output_type": "error",
     "traceback": [
      "\u001b[1;31m---------------------------------------------------------------------------\u001b[0m",
      "\u001b[1;31mTypeError\u001b[0m                                 Traceback (most recent call last)",
      "Cell \u001b[1;32mIn[23], line 1\u001b[0m\n\u001b[1;32m----> 1\u001b[0m \u001b[38;5;28;43mhash\u001b[39;49m\u001b[43m(\u001b[49m\u001b[43m[\u001b[49m\u001b[38;5;241;43m2\u001b[39;49m\u001b[43m,\u001b[49m\u001b[43m \u001b[49m\u001b[38;5;241;43m4\u001b[39;49m\u001b[43m]\u001b[49m\u001b[43m)\u001b[49m\n",
      "\u001b[1;31mTypeError\u001b[0m: unhashable type: 'list'"
     ]
    }
   ],
   "source": [
    "hash([2, 4])"
   ]
  },
  {
   "attachments": {},
   "cell_type": "markdown",
   "metadata": {},
   "source": [
    "# Summary\n",
    "\n",
    "del dict[ element ]  \n",
    "\n",
    "dict_name.pop()  \n",
    "\n",
    "dict.update \n",
    "\n",
    "dict.get() \n",
    "\n",
    "dict.keys()  \n",
    "\n",
    "dict.values()  \n",
    "\n",
    "sorted(dict.values)  \n",
    "\n",
    "dict.items()     \n",
    "\n",
    "列表解析创建dict - zip(key_list, value_list)\n",
    "\n",
    "setdefault\n",
    "\n",
    "defaultdict  \n",
    "\n",
    "字典的key不可变对象\n",
    "\n",
    "hash()"
   ]
  }
 ],
 "metadata": {
  "kernelspec": {
   "display_name": "Python 3 (ipykernel)",
   "language": "python",
   "name": "python3"
  },
  "language_info": {
   "codemirror_mode": {
    "name": "ipython",
    "version": 3
   },
   "file_extension": ".py",
   "mimetype": "text/x-python",
   "name": "python",
   "nbconvert_exporter": "python",
   "pygments_lexer": "ipython3",
   "version": "3.10.9"
  }
 },
 "nbformat": 4,
 "nbformat_minor": 4
}
