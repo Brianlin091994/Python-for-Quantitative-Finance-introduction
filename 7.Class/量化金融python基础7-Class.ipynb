{
 "cells": [
  {
   "attachments": {},
   "cell_type": "markdown",
   "id": "0a68e5c3-b226-4a02-8d30-05d39bd7d441",
   "metadata": {
    "tags": []
   },
   "source": [
    "# Class Introduction"
   ]
  },
  {
   "attachments": {},
   "cell_type": "markdown",
   "id": "f37da589",
   "metadata": {},
   "source": [
    "Class，类，是一种封装数据和方法的方式，是用于创建对象的模板，其内部定义了对象的属性（变量）和方法（函数）。它是面向对象编程的重要概念。"
   ]
  },
  {
   "attachments": {},
   "cell_type": "markdown",
   "id": "88959903",
   "metadata": {},
   "source": [
    "下面通过创建一个名为TradeData的交易数据类，来解释类的各项功能。"
   ]
  },
  {
   "cell_type": "code",
   "execution_count": 1,
   "id": "59fd8cbc",
   "metadata": {},
   "outputs": [],
   "source": [
    "class TradeData: \n",
    "    \"\"\"\"\"\"\n",
    "    symbol = None\n",
    "    price = 0\n",
    "    direction = None\n",
    "    volume = 0\n",
    "    # 以上变量叫class attributes，类属性。\n",
    "    def __init__(self, symbol, price, direction, volume): \n",
    "        self.symbol = symbol \n",
    "        self.price = price\n",
    "        self.direction = direction\n",
    "        self.volume = volume \n",
    "    # __init__ 函数用于创建类的实例时进行初始化操作。\n",
    "    # 在def __init__()函数这一行里，symbol,price, direction, volume是在创建实例时，由外部参数传入到类里面的。\n",
    "    # 然后通过self.symbol = symbol这样的方式，将外部参数赋予实例属性。\n",
    "    # 在实例化时，__init__函数内的参数必须传入，否则会报错。    \n",
    "    \n",
    "    def output_trade_result(self):\n",
    "        print(\n",
    "            f\"标的资产\\t{self.symbol}\\n\"\n",
    "            f\"成交方向\\t{self.direction}\\n\"\n",
    "            f\"成交金额\\t{self.price * self.volume}\"\n",
    "        )\n",
    "    # output_trade_result叫实例方法。\n",
    "    # 在实例化之后，可以用过实例去调用该函数。\n",
    "    # 需要提醒的是，类内部的实例方法，在定义的时候都要传self这个参数，\n",
    "    # 因为self包含了属性变量，需要传入该参数，才能在函数中通过 self.xxx的方式调用属性变量。"
   ]
  },
  {
   "cell_type": "code",
   "execution_count": 2,
   "id": "e29dd21c",
   "metadata": {},
   "outputs": [],
   "source": [
    "trade1 = TradeData(\"600001\", 80, \"买入\", 1000)\n",
    "trade2 = TradeData(\"600002\", 90, \"卖出\", 800)\n",
    "# trade1，trade2为两个实例。\n",
    "# 这个过程就叫实例化。"
   ]
  },
  {
   "cell_type": "code",
   "execution_count": 3,
   "id": "8e23c9eb",
   "metadata": {},
   "outputs": [
    {
     "name": "stdout",
     "output_type": "stream",
     "text": [
      "标的资产\t600001\n",
      "成交方向\t买入\n",
      "成交金额\t80000\n"
     ]
    }
   ],
   "source": [
    "# 调用实例方法\n",
    "trade1.output_trade_result()"
   ]
  },
  {
   "attachments": {},
   "cell_type": "markdown",
   "id": "f79363d9",
   "metadata": {},
   "source": [
    "# 私有方法和私有属性 Private Method and Private Attribute"
   ]
  },
  {
   "attachments": {},
   "cell_type": "markdown",
   "id": "4d25816b",
   "metadata": {},
   "source": [
    "在定义类的时候，有些类属性和实例方法在设计时不希望被外部实例直接访问。于是有了私有方法和私有属性。\n",
    "\n",
    "他们是通过在名称前面添加\"__\"双下划线来实现的。"
   ]
  },
  {
   "cell_type": "code",
   "execution_count": 4,
   "id": "9b427b52",
   "metadata": {},
   "outputs": [],
   "source": [
    "class TradeData:\n",
    "    symbol = None\n",
    "    price = 0\n",
    "    direction = None\n",
    "    volume = 0\n",
    "    __cashflow = 0 # 私有属性\n",
    "    \n",
    "    def __init__(self, symbol, price, direction, volume):\n",
    "        self.symbol = symbol\n",
    "        self.price = price\n",
    "        self.direction = direction\n",
    "        self.volume = volume\n",
    "        self.__cashflow = 0\n",
    "    \n",
    "    def __trading_amount(self): # 私有方法， 只能在类内部函数调用。\n",
    "        amount = self.price * self.volume\n",
    "        return amount\n",
    "    \n",
    "    def cal_cashflow(self):\n",
    "        if self.direction == \"买入\":\n",
    "            self.__cashflow = - self.__trading_amount()\n",
    "        else:\n",
    "            self.__cashflow = self.__trading_amount()\n",
    "        return self.__cashflow\n",
    "    \n",
    "    def output_trade_result(self):\n",
    "        print(\n",
    "        f\"标的资产\\t{self.symbol}\\n\"\n",
    "        f\"成交方向\\t{self.direction}\\n\" \n",
    "        f\"成交金额\\t{self.__trading_amount()}\"\n",
    "        )\n",
    "    "
   ]
  },
  {
   "cell_type": "code",
   "execution_count": 5,
   "id": "2f201a6a",
   "metadata": {},
   "outputs": [],
   "source": [
    "trade1 = TradeData(\"600001\", 80, \"买入\", 1000)"
   ]
  },
  {
   "cell_type": "code",
   "execution_count": 6,
   "id": "7a77fa51",
   "metadata": {},
   "outputs": [
    {
     "data": {
      "text/plain": [
       "-80000"
      ]
     },
     "execution_count": 6,
     "metadata": {},
     "output_type": "execute_result"
    }
   ],
   "source": [
    "trade1.cal_cashflow()"
   ]
  },
  {
   "cell_type": "code",
   "execution_count": 7,
   "id": "69713309",
   "metadata": {},
   "outputs": [
    {
     "ename": "AttributeError",
     "evalue": "'TradeData' object has no attribute '__trading_amount'",
     "output_type": "error",
     "traceback": [
      "\u001b[1;31m---------------------------------------------------------------------------\u001b[0m",
      "\u001b[1;31mAttributeError\u001b[0m                            Traceback (most recent call last)",
      "Cell \u001b[1;32mIn[7], line 2\u001b[0m\n\u001b[0;32m      1\u001b[0m \u001b[39m# 调用私有方法报错\u001b[39;00m\n\u001b[1;32m----> 2\u001b[0m trade1\u001b[39m.\u001b[39;49m__trading_amount()\n",
      "\u001b[1;31mAttributeError\u001b[0m: 'TradeData' object has no attribute '__trading_amount'"
     ]
    }
   ],
   "source": [
    "# 调用私有方法报错\n",
    "trade1.__trading_amount()"
   ]
  },
  {
   "cell_type": "code",
   "execution_count": 8,
   "id": "114d18be",
   "metadata": {},
   "outputs": [
    {
     "ename": "AttributeError",
     "evalue": "'TradeData' object has no attribute '__cashflow'",
     "output_type": "error",
     "traceback": [
      "\u001b[1;31m---------------------------------------------------------------------------\u001b[0m",
      "\u001b[1;31mAttributeError\u001b[0m                            Traceback (most recent call last)",
      "Cell \u001b[1;32mIn[8], line 2\u001b[0m\n\u001b[0;32m      1\u001b[0m \u001b[39m# 访问私有属性报错\u001b[39;00m\n\u001b[1;32m----> 2\u001b[0m trade1\u001b[39m.\u001b[39;49m__cashflow\n",
      "\u001b[1;31mAttributeError\u001b[0m: 'TradeData' object has no attribute '__cashflow'"
     ]
    }
   ],
   "source": [
    "# 访问私有属性报错\n",
    "trade1.__cashflow"
   ]
  },
  {
   "attachments": {},
   "cell_type": "markdown",
   "id": "588cb8bd",
   "metadata": {},
   "source": [
    "# @classmethod 装饰器， 也叫类方法"
   ]
  },
  {
   "attachments": {},
   "cell_type": "markdown",
   "id": "3cf7e54a",
   "metadata": {},
   "source": [
    "类在实例化之前是没法直接调用内部方法的。\n",
    "\n",
    "想要实现通过类本身进行调用，而不进行创建类的实例，那就需要用到@classmethod类方法装饰器。\n",
    "\n",
    "使用@classmethod的函数，第一个参数通常被命名为cls，不再是self。\n",
    "\n",
    "提醒一下，添加@classmethod, 只能访问类属性，不能访问实例属性。"
   ]
  },
  {
   "cell_type": "code",
   "execution_count": 10,
   "id": "8cfaed95",
   "metadata": {},
   "outputs": [],
   "source": [
    "class TradeData:\n",
    "    \"\"\"\"\"\"\n",
    "    symbol = None\n",
    "    price = 0\n",
    "    direction = None\n",
    "    volume = 0\n",
    "\n",
    "    def __init__(self, symbol, price, direction, volume):\n",
    "        self.symbol = symbol\n",
    "        self.price = price\n",
    "        self.direction = direction\n",
    "        self.volume = volume\n",
    "    \n",
    "    @classmethod # 直接在函数上方添加装饰器\n",
    "    def output_trade_result(cls):\n",
    "        #trade = cls(\"Example\", 10, \"Buy\", 5)\n",
    "        print(\n",
    "            f\"Symbol:\\t{cls.symbol}\\n\"\n",
    "            f\"Direction:\\t{cls.direction}\\n\"\n",
    "            f\"Amount:\\t{cls.price * cls.volume}\\n\"\n",
    "        )\n"
   ]
  },
  {
   "cell_type": "code",
   "execution_count": 11,
   "id": "5984cb3f",
   "metadata": {},
   "outputs": [
    {
     "name": "stdout",
     "output_type": "stream",
     "text": [
      "Symbol:\tNone\n",
      "Direction:\tNone\n",
      "Amount:\t0\n",
      "\n"
     ]
    }
   ],
   "source": [
    "# 无需实例化，直接输出类属性的值\n",
    "TradeData.output_trade_result()"
   ]
  },
  {
   "attachments": {},
   "cell_type": "markdown",
   "id": "fb61c634",
   "metadata": {},
   "source": [
    "# @staticmethod 装饰器"
   ]
  },
  {
   "attachments": {},
   "cell_type": "markdown",
   "id": "598984ea",
   "metadata": {},
   "source": [
    "与 @classmethod相似的，还有 @staticmethod 装饰器，也叫静态方法。\n",
    "\n",
    "静态方法是个独立单纯的函数，仅托管于某个类的名称空间中，它不依赖于类实例，也不需要访问实例属性或者调用其他实例方法，\n",
    "\n",
    "@staticmethod没有隐含的第一个参数，即没有self或者cls，其更像是寻常普通的函数，只接受函数定义中指定的参数。\n"
   ]
  },
  {
   "cell_type": "code",
   "execution_count": 11,
   "id": "b005336e",
   "metadata": {},
   "outputs": [],
   "source": [
    "class TradeData:\n",
    "    \"\"\"\"\"\"\n",
    "    symbol = None\n",
    "    price = 0\n",
    "    direction = None\n",
    "    volume = 0\n",
    "\n",
    "    def __init__(self, symbol, price, direction, volume):\n",
    "        self.symbol = symbol\n",
    "        self.price = price\n",
    "        self.direction = direction\n",
    "        self.volume = volume\n",
    "    \n",
    "    @staticmethod\n",
    "    def output_trade_result(symbol, price, direction, volume):\n",
    "        print(\n",
    "            f\"Symbol:\\t{symbol}\\n\"\n",
    "            f\"Direction:\\t{direction}\\n\"\n",
    "            f\"Amount:\\t{price * volume}\\n\"\n",
    "        )"
   ]
  },
  {
   "cell_type": "code",
   "execution_count": 12,
   "id": "29b78c8f",
   "metadata": {},
   "outputs": [
    {
     "name": "stdout",
     "output_type": "stream",
     "text": [
      "Symbol:\t600001\n",
      "Direction:\t买入\n",
      "Amount:\t8000\n",
      "\n"
     ]
    }
   ],
   "source": [
    "TradeData.output_trade_result(symbol = \"600001\", price = 100, direction = \"买入\", volume = 80)"
   ]
  },
  {
   "attachments": {},
   "cell_type": "markdown",
   "id": "525065ea",
   "metadata": {},
   "source": [
    "## @staticmethod， @classmethod 的区别\n",
    "* @classmethod 类方法的第一个参数通常被命名为cls， 它表示类本身。  \n",
    "类方法通过类名调用，并将类本身作为第一个参数传入，可以使用cls参数来访问类的属性和其他类方法。\n",
    "\n",
    "* @staticmethod 没有隐式的参数，它通过类名直接调用，并接受所有参数作为显式参数。  \n",
    "  静态方法不能直接访问类属性或者实例属性。它们与类的状态无关，不依赖于类的实例。  \n",
    "  \n"
   ]
  },
  {
   "attachments": {},
   "cell_type": "markdown",
   "id": "419b316d",
   "metadata": {},
   "source": [
    "# @property 装饰器"
   ]
  },
  {
   "attachments": {},
   "cell_type": "markdown",
   "id": "851752a1",
   "metadata": {},
   "source": [
    "python内置的@property装饰器可以把一个方法转变成属性，使用者可以直接通过转变后的属性取值。"
   ]
  },
  {
   "cell_type": "code",
   "execution_count": 13,
   "id": "cf6e244d",
   "metadata": {},
   "outputs": [],
   "source": [
    "class TradeData:\n",
    "    \"\"\"\"\"\"\n",
    "    symbol = None\n",
    "    price = 0\n",
    "    direction = None\n",
    "    volume = 0\n",
    "    \n",
    "    def __init__(self, symbol, price, direction, volume):\n",
    "        self.symbol = symbol\n",
    "        self.price = price\n",
    "        self.direction = direction\n",
    "        self.volume = volume\n",
    "        \n",
    "    @property\n",
    "    def trading_amount(self):\n",
    "        return self.price * self.volume\n",
    "\n",
    "    def output_trade_result(self):\n",
    "        print(\n",
    "            f\"标的资产\\t{self.symbol}\\n\"\n",
    "            f\"成交方向\\t{self.direction}\\n\"\n",
    "            f\"成交金额\\t{self.trading_amount}\"\n",
    "        )"
   ]
  },
  {
   "cell_type": "code",
   "execution_count": 14,
   "id": "d7e9f951",
   "metadata": {},
   "outputs": [
    {
     "data": {
      "text/plain": [
       "80000"
      ]
     },
     "execution_count": 14,
     "metadata": {},
     "output_type": "execute_result"
    }
   ],
   "source": [
    "# 通过属性调用，而不是方法。\n",
    "trade1 = TradeData(\"600001\", 80, \"买入\", 1000)\n",
    "trade1.trading_amount"
   ]
  },
  {
   "attachments": {},
   "cell_type": "markdown",
   "id": "c71dda99",
   "metadata": {},
   "source": [
    "交易额是根据 标的物价格 乘 交易数量 决定的。\n",
    "\n",
    "但有时候要反过来，在知道标的物价格的情况下，想交易大概额度的金额，要交易多少对应的数量呢？\n",
    "\n",
    "我们可以通过设置trading_amount， 求volume，但这时候又会遇到问题。"
   ]
  },
  {
   "cell_type": "code",
   "execution_count": 15,
   "id": "f40db9cd",
   "metadata": {},
   "outputs": [
    {
     "ename": "AttributeError",
     "evalue": "can't set attribute 'trading_amount'",
     "output_type": "error",
     "traceback": [
      "\u001b[1;31m---------------------------------------------------------------------------\u001b[0m",
      "\u001b[1;31mAttributeError\u001b[0m                            Traceback (most recent call last)",
      "Cell \u001b[1;32mIn[15], line 1\u001b[0m\n\u001b[1;32m----> 1\u001b[0m trade1\u001b[39m.\u001b[39;49mtrading_amount \u001b[39m=\u001b[39m \u001b[39m10000\u001b[39m\n",
      "\u001b[1;31mAttributeError\u001b[0m: can't set attribute 'trading_amount'"
     ]
    }
   ],
   "source": [
    "trade1.trading_amount = 10000"
   ]
  },
  {
   "attachments": {},
   "cell_type": "markdown",
   "id": "a5b23926",
   "metadata": {},
   "source": [
    "添加了property装饰器的trading_amount， 可以被视为属性，但不能赋值。\n",
    "\n",
    "为了解决这个问题，引入property setter"
   ]
  },
  {
   "cell_type": "code",
   "execution_count": 16,
   "id": "fd37948d",
   "metadata": {},
   "outputs": [],
   "source": [
    "class TradeData:\n",
    "    \"\"\"\"\"\"\n",
    "    symbol = None\n",
    "    price = 0\n",
    "    direction = None\n",
    "    volume = 0\n",
    "    \n",
    "    def __init__(self, symbol, price, direction, volume):\n",
    "        self.symbol = symbol\n",
    "        self.price = price\n",
    "        self.direction = direction\n",
    "        self.volume = volume\n",
    "        \n",
    "    @property\n",
    "    def trading_amount(self):\n",
    "        return self.price * self.volume\n",
    "\n",
    "    @trading_amount.setter # 增加该代码段，根据trading_amount计算volume, 使赋值trading_amount成为可能。\n",
    "    def trading_amount(self, assumed_amount):\n",
    "        self.volume = assumed_amount / self.price \n",
    "\n",
    "    def output_trade_result(self):\n",
    "        print(\n",
    "            f\"标的资产\\t{self.symbol}\\n\"\n",
    "            f\"成交方向\\t{self.direction}\\n\"\n",
    "            f\"成交金额\\t{self.trading_amount}\"\n",
    "        )"
   ]
  },
  {
   "cell_type": "code",
   "execution_count": 17,
   "id": "f0f211eb",
   "metadata": {},
   "outputs": [
    {
     "data": {
      "text/plain": [
       "125.0"
      ]
     },
     "execution_count": 17,
     "metadata": {},
     "output_type": "execute_result"
    }
   ],
   "source": [
    "trade1 = TradeData(\"600001\", 80, \"买入\", 0) # trading_volume 未知，先输入0代替。\n",
    "trade1.trading_amount = 10000\n",
    "trade1.volume\n"
   ]
  },
  {
   "attachments": {},
   "cell_type": "markdown",
   "id": "051774f4",
   "metadata": {},
   "source": [
    "# 类属性 可变数据结构 内存共享的问题"
   ]
  },
  {
   "attachments": {},
   "cell_type": "markdown",
   "id": "b5ed1ff1",
   "metadata": {},
   "source": [
    "在课程基础4 中提到过，list, dictionary是可变变量，用hash()函数可以判断。\n",
    "\n",
    "可变变量在类的应用中需要引起注意，特别是放置在类属性中的可变变量，看以下例子。\n",
    "\n",
    "设计一个AccountRecord类用来存储单个账户发生的成交记录TradeData。"
   ]
  },
  {
   "cell_type": "code",
   "execution_count": 18,
   "id": "6fea9a48",
   "metadata": {},
   "outputs": [],
   "source": [
    "class AccountRecord:\n",
    "    records:list[TradeData] = []\n",
    "    # 注意，records 是类属性中的可变变量。\n",
    "    \n",
    "    def update_record(self, trade_data: TradeData):\n",
    "        self.records.append(trade_data)\n",
    "        # 将成交记录以添加到列表方式存储。\n",
    "\n",
    "    def output_all_record(self):\n",
    "        for record in self.records:\n",
    "            record.output_trade_result()"
   ]
  },
  {
   "cell_type": "code",
   "execution_count": 19,
   "id": "67b9606d",
   "metadata": {},
   "outputs": [
    {
     "name": "stdout",
     "output_type": "stream",
     "text": [
      "标的资产\t600001\n",
      "成交方向\t买入\n",
      "成交金额\t10000.0\n"
     ]
    }
   ],
   "source": [
    "Account1 = AccountRecord()\n",
    "Account1.update_record(trade1)\n",
    "Account1.output_all_record()"
   ]
  },
  {
   "cell_type": "code",
   "execution_count": 20,
   "id": "8a486a7a",
   "metadata": {},
   "outputs": [
    {
     "name": "stdout",
     "output_type": "stream",
     "text": [
      "标的资产\t600001\n",
      "成交方向\t买入\n",
      "成交金额\t10000.0\n",
      "标的资产\t600002\n",
      "成交方向\t卖出\n",
      "成交金额\t72000\n"
     ]
    }
   ],
   "source": [
    "account2 = AccountRecord()\n",
    "account2.update_record(trade2)\n",
    "account2.output_all_record()"
   ]
  },
  {
   "attachments": {},
   "cell_type": "markdown",
   "id": "7b58733b",
   "metadata": {},
   "source": [
    "以上不难发现，在初始化第二个账户account2，并且只添加trade2后，account2出现了两条交易记录。\n",
    "\n",
    "出现这个问题的原因，就是在设计AccountRecord类时，records被放到了类属性里。造成所有被实例化的对象，属性records指向的都是同一块内存区域里的数据。\n",
    "\n",
    "因此，想要避开这个问题，就要把可变变量，放到类的初始化函数，__init()__函数内。"
   ]
  },
  {
   "cell_type": "code",
   "execution_count": 21,
   "id": "9cd1d33f",
   "metadata": {},
   "outputs": [],
   "source": [
    "class AccountRecord:\n",
    "    \n",
    "    def __init__(self):\n",
    "        self.records:list[TradeData] = []\n",
    "    \n",
    "    def update_record(self, trade_data: TradeData):\n",
    "        self.records.append(trade_data)\n",
    "        # 将成交记录以添加到列表方式存储。\n",
    "\n",
    "    def output_all_record(self):\n",
    "        for record in self.records:\n",
    "            record.output_trade_result()"
   ]
  },
  {
   "cell_type": "code",
   "execution_count": 22,
   "id": "7cb3fc7e",
   "metadata": {},
   "outputs": [
    {
     "name": "stdout",
     "output_type": "stream",
     "text": [
      "标的资产\t600001\n",
      "成交方向\t买入\n",
      "成交金额\t10000.0\n"
     ]
    }
   ],
   "source": [
    "Account1 = AccountRecord()\n",
    "Account1.update_record(trade1)\n",
    "Account1.output_all_record()"
   ]
  },
  {
   "cell_type": "code",
   "execution_count": 23,
   "id": "24314292",
   "metadata": {},
   "outputs": [
    {
     "name": "stdout",
     "output_type": "stream",
     "text": [
      "标的资产\t600002\n",
      "成交方向\t卖出\n",
      "成交金额\t72000\n"
     ]
    }
   ],
   "source": [
    "account2 = AccountRecord()\n",
    "account2.update_record(trade2)\n",
    "account2.output_all_record()"
   ]
  },
  {
   "attachments": {},
   "cell_type": "markdown",
   "id": "6b25d143",
   "metadata": {},
   "source": [
    "# Inheritence 继承"
   ]
  },
  {
   "attachments": {},
   "cell_type": "markdown",
   "id": "f6af10f9",
   "metadata": {},
   "source": [
    "类的继承指允许一个类继承另一个类的属性和方法。通过以下方式继承：  \n",
    "class ChildClass(ParentalClass):  \n",
    "\n",
    "通过继承，子类可以直接重用父类的代码，并且可以在不修改父类的情况下添加新的属性和方法。  \n",
    "在继承关系中，子类继承了父类的所有公有属性和方法。也就是说，子类可以访问父类的属性和方法。\n",
    "\n",
    "子类还可以根据需要重写父类的方法或添加自己的方法。\n",
    "\n"
   ]
  },
  {
   "cell_type": "code",
   "execution_count": 24,
   "id": "6e21b0e8",
   "metadata": {},
   "outputs": [],
   "source": [
    "# 该例子就通过子类 期货交易数据 来继承 普通交易数据类。\n",
    "# 由于期货交易的合约性质，会多出一个合约乘数multiplier，在计算交易额时，需要将multiplier也乘上。\n",
    "class FuturesTradeData(TradeData):\n",
    "\n",
    "    multiplier = 0\n",
    "    \n",
    "    def __init__(self, symbol, price, direction, volume, multiplier):\n",
    "        super().__init__(symbol, price, direction, volume)\n",
    "        # 需要在__init__函数内添加代码，又不想重写父类的代码片段，用super()函数返回对父类重复代码片段的引用。\n",
    "        self.multiplier = multiplier\n",
    "     \n",
    "    @property\n",
    "    def trading_amount(self):\n",
    "        amount = self.price * self.volume * self.multiplier\n",
    "        return amount\n",
    "    \n",
    "    def cashflow(self):\n",
    "        super().cashflow()\n",
    "    \n"
   ]
  },
  {
   "attachments": {},
   "cell_type": "markdown",
   "id": "da0a18d5",
   "metadata": {},
   "source": [
    "装饰器的继承规则：   \n",
    "\n",
    "@classmethod 和 @staticmethod 可以被子类继承，子类能直接调用加了这些装饰器的函数  \n",
    "\n",
    "子类无法继承@property装饰器（但是能继承@property装饰器修饰的属性的setter方法和getter方法，使用@ParentalClasss.function_name.setter， getter本节没有讲述，有兴趣的朋友请自行查阅。）\n"
   ]
  },
  {
   "cell_type": "code",
   "execution_count": 25,
   "id": "ca2d073e",
   "metadata": {},
   "outputs": [
    {
     "name": "stdout",
     "output_type": "stream",
     "text": [
      "标的资产\tm2309.DCE\n",
      "成交方向\t买入\n",
      "成交金额\t60000\n"
     ]
    }
   ],
   "source": [
    "trade3 = FuturesTradeData(\"m2309.DCE\", 3000, \"买入\", 2, 10)\n",
    "trade3.output_trade_result()"
   ]
  },
  {
   "attachments": {},
   "cell_type": "markdown",
   "id": "0c9c37e8",
   "metadata": {},
   "source": [
    "私有属性和私有方法也可以在子类中被继承和重写。\n",
    "\n",
    "子类可以通过定义相同名称的私有属性和私有方法来隐藏或修改父类的实现细节，同时保留接口的一致性。"
   ]
  },
  {
   "attachments": {},
   "cell_type": "markdown",
   "id": "52664b68-7163-46d9-90d3-8512c3b847e7",
   "metadata": {},
   "source": [
    "# Summary\n"
   ]
  },
  {
   "attachments": {},
   "cell_type": "markdown",
   "id": "a0dbce72-4411-44ed-b239-35d5a7a07f77",
   "metadata": {},
   "source": [
    "* 类介绍 Class Introduction \n",
    "* 私有方法和私有属性 private method and private attribute\n",
    "* @classmethod\n",
    "* @staticmethod\n",
    "* @property\n",
    "* 类属性 可变数据结构 内存共享的问题\n",
    "* 类的继承 Inheritance\n",
    "\n"
   ]
  }
 ],
 "metadata": {
  "kernelspec": {
   "display_name": "Python 3 (ipykernel)",
   "language": "python",
   "name": "python3"
  },
  "language_info": {
   "codemirror_mode": {
    "name": "ipython",
    "version": 3
   },
   "file_extension": ".py",
   "mimetype": "text/x-python",
   "name": "python",
   "nbconvert_exporter": "python",
   "pygments_lexer": "ipython3",
   "version": "3.10.9"
  }
 },
 "nbformat": 4,
 "nbformat_minor": 5
}
