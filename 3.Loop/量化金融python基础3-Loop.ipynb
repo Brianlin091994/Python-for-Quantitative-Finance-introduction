{
 "cells": [
  {
   "cell_type": "markdown",
   "metadata": {},
   "source": [
    "## Loop 循环"
   ]
  },
  {
   "cell_type": "markdown",
   "metadata": {},
   "source": [
    "python主要提供了两种循环结构：for循环和while循环"
   ]
  },
  {
   "cell_type": "markdown",
   "metadata": {},
   "source": [
    "For循环是一种用于迭代遍历数据结构（如列表、元组、字符串等）的循环结构。  \n",
    "For循环可以按顺序遍历一个序列中的每一个元素，并且在遍历时可以进行一些操作。  \n",
    "for语句经常和列表List搭配使用。"
   ]
  },
  {
   "cell_type": "code",
   "execution_count": 1,
   "metadata": {
    "tags": []
   },
   "outputs": [
    {
     "name": "stdout",
     "output_type": "stream",
     "text": [
      "apple\n",
      "banana\n",
      "cherry\n",
      "grape\n",
      "pear\n"
     ]
    }
   ],
   "source": [
    "# 打印列表中的每个元素。\n",
    "fruits = [\"apple\", \"banana\", \"cherry\", \"grape\", \"pear\"]\n",
    "for fruit in fruits:\n",
    "    print(fruit)"
   ]
  },
  {
   "cell_type": "code",
   "execution_count": 2,
   "metadata": {
    "tags": []
   },
   "outputs": [
    {
     "name": "stdout",
     "output_type": "stream",
     "text": [
      "0\n",
      "1\n",
      "2\n",
      "3\n",
      "4\n"
     ]
    }
   ],
   "source": [
    "# for loop with range for循环和函数range()搭配使用\n",
    "for i in range(5):\n",
    "    print(i)"
   ]
  },
  {
   "cell_type": "code",
   "execution_count": 3,
   "metadata": {
    "tags": []
   },
   "outputs": [
    {
     "name": "stdout",
     "output_type": "stream",
     "text": [
      "1\n",
      "3\n",
      "5\n"
     ]
    }
   ],
   "source": [
    "# range() 加入 step 步长\n",
    "# range(start, end, step)\n",
    "# step 代表每隔X步\n",
    "for i in range(1, 6, 2):\n",
    "    print(i)"
   ]
  },
  {
   "cell_type": "code",
   "execution_count": 4,
   "metadata": {
    "tags": []
   },
   "outputs": [
    {
     "name": "stdout",
     "output_type": "stream",
     "text": [
      "0 apple\n",
      "1 banana\n",
      "2 cherry\n",
      "3 grape\n",
      "4 pear\n"
     ]
    }
   ],
   "source": [
    "# 按照从0开始的顺序打印索引和fruits\n",
    "for i in range(len(fruits)):\n",
    "    print(i, fruits[i])"
   ]
  },
  {
   "cell_type": "code",
   "execution_count": 5,
   "metadata": {
    "tags": []
   },
   "outputs": [
    {
     "name": "stdout",
     "output_type": "stream",
     "text": [
      "0 apple\n",
      "1 banana\n",
      "2 cherry\n",
      "3 grape\n",
      "4 pear\n"
     ]
    }
   ],
   "source": [
    "# 以上功能也可以通过python内建函数enumerate实现\n",
    "# enumerate返回迭代过程中索引和对应的值\n",
    "for i, j in enumerate(fruits):\n",
    "    print(i, j)\n",
    "# 通常，如果同时要用到索引和列表值，用enumerate会比range(len())方便更快一些。"
   ]
  },
  {
   "cell_type": "code",
   "execution_count": 6,
   "metadata": {
    "tags": []
   },
   "outputs": [],
   "source": [
    "# zip()函数可以实现列表、元组或者其他序列的元素配对。\n",
    "# 生成从0到5的列表\n",
    "one2five_list = list(range(1,6))\n",
    "zipped = zip(one2five_list, fruits)"
   ]
  },
  {
   "cell_type": "code",
   "execution_count": 7,
   "metadata": {
    "tags": []
   },
   "outputs": [
    {
     "data": {
      "text/plain": [
       "[(1, 'apple'), (2, 'banana'), (3, 'cherry'), (4, 'grape'), (5, 'pear')]"
      ]
     },
     "execution_count": 7,
     "metadata": {},
     "output_type": "execute_result"
    }
   ],
   "source": [
    "# zipped是无法直接查看的，zipped是一个迭代器，\n",
    "# 需要先转化成list\n",
    "list(zipped)"
   ]
  },
  {
   "cell_type": "code",
   "execution_count": 8,
   "metadata": {
    "tags": []
   },
   "outputs": [
    {
     "data": {
      "text/plain": [
       "[]"
      ]
     },
     "execution_count": 8,
     "metadata": {},
     "output_type": "execute_result"
    }
   ],
   "source": [
    "# 而且zipped迭代器只能使用一次，其内容在用完一次之后就会被清空\n",
    "list(zipped)"
   ]
  },
  {
   "cell_type": "code",
   "execution_count": 9,
   "metadata": {
    "tags": []
   },
   "outputs": [
    {
     "name": "stdout",
     "output_type": "stream",
     "text": [
      "解压之前 (1, 'apple') ,解压之后 1 apple\n",
      "解压之前 (2, 'banana') ,解压之后 2 banana\n",
      "解压之前 (3, 'cherry') ,解压之后 3 cherry\n",
      "解压之前 (4, 'grape') ,解压之后 4 grape\n",
      "解压之前 (5, 'pear') ,解压之后 5 pear\n"
     ]
    }
   ],
   "source": [
    "zipped = zip(one2five_list, fruits)\n",
    "zipped_list = list(zipped)\n",
    "for i in zipped_list:\n",
    "    print(\"解压之前\",i,\",解压之后\",*i)\n",
    "# *运算符可以\"解压\"元组并将其内容打印为单独的参数。"
   ]
  },
  {
   "cell_type": "code",
   "execution_count": 10,
   "metadata": {
    "tags": []
   },
   "outputs": [
    {
     "name": "stdout",
     "output_type": "stream",
     "text": [
      "(1, 2, 3, 4, 5) ('apple', 'banana', 'cherry', 'grape', 'pear')\n"
     ]
    }
   ],
   "source": [
    "# zipped_lsit 是一个已配对的序列，\n",
    "# zip函数还可以拆分该序列，转化成各自的列表。\n",
    "index, fruits2 = zip(*zipped_list)\n",
    "print(index, fruits2)"
   ]
  },
  {
   "cell_type": "code",
   "execution_count": 11,
   "metadata": {
    "tags": []
   },
   "outputs": [
    {
     "data": {
      "text/plain": [
       "[1, 3, 5, 7, 9]"
      ]
     },
     "execution_count": 11,
     "metadata": {},
     "output_type": "execute_result"
    }
   ],
   "source": [
    "# List Comprehension 列表解析，也称列表推导式\n",
    "# 它可以通过对现有可迭代对象（如列表、元组、字符串或范围）的每个元素应用表达式或操作来创建一个新列表。\n",
    "\n",
    "one2ten_list = list(range(11))\n",
    "# 筛选过滤偶数，获得奇数列表， \n",
    "# %2代表除以2取余，如果有余数则留下\n",
    "get_odd = [i for i in one2ten_list if i % 2]\n",
    "get_odd"
   ]
  },
  {
   "cell_type": "code",
   "execution_count": 12,
   "metadata": {
    "tags": []
   },
   "outputs": [
    {
     "data": {
      "text/plain": [
       "[1, 4, 9, 16, 25]"
      ]
     },
     "execution_count": 12,
     "metadata": {},
     "output_type": "execute_result"
    }
   ],
   "source": [
    "one2five_list = [1, 2, 3, 4, 5]\n",
    "# 对one2five列表每个元素算平方\n",
    "get_square = [i**2 for i in one2five_list]\n",
    "get_square"
   ]
  },
  {
   "cell_type": "code",
   "execution_count": 13,
   "metadata": {
    "tags": []
   },
   "outputs": [
    {
     "name": "stdout",
     "output_type": "stream",
     "text": [
      "apple\n",
      "banana\n",
      "cherry\n",
      "grape\n",
      "pear\n"
     ]
    }
   ],
   "source": [
    "# python除了for循环，还可以用while循环\n",
    "i = 0\n",
    "while i < 5: \n",
    "    print(fruits[i])\n",
    "    i += 1"
   ]
  },
  {
   "cell_type": "code",
   "execution_count": 14,
   "metadata": {
    "tags": []
   },
   "outputs": [
    {
     "name": "stdout",
     "output_type": "stream",
     "text": [
      "apple\n",
      "banana\n",
      "cherry\n",
      "grape\n",
      "pear\n"
     ]
    }
   ],
   "source": [
    "# while True if break 经常被搭配在一起使用，\n",
    "# 当出现特定情况时，用break语句中断结束循环，否则就一直循环下去\n",
    "# 此处用到if，只打印输出前五个元素。\n",
    "i = 0\n",
    "while True:\n",
    "    if (i < 5):\n",
    "        print(fruits[i])\n",
    "        i+=1\n",
    "    else:\n",
    "        break"
   ]
  },
  {
   "cell_type": "code",
   "execution_count": 15,
   "metadata": {
    "tags": []
   },
   "outputs": [
    {
     "name": "stdout",
     "output_type": "stream",
     "text": [
      "apple\n",
      "banana\n",
      "cherry\n",
      "pear\n"
     ]
    }
   ],
   "source": [
    "i = 0\n",
    "while i < 5: \n",
    "    if (fruits[i] == \"grape\"):\n",
    "        i += 1\n",
    "        continue # 如果是grape， 那就不执行后面的代码，直接进行下一轮循环。\n",
    "    print(fruits[i])\n",
    "    i += 1\n",
    "    "
   ]
  },
  {
   "cell_type": "markdown",
   "metadata": {},
   "source": [
    "## Summary\n",
    "- for \n",
    "- range\n",
    "- list comprehensions 列表解析式\n",
    "- enummerate\n",
    "- zip\n",
    "- while\n",
    "- break\n",
    "- continue"
   ]
  }
 ],
 "metadata": {
  "kernelspec": {
   "display_name": "Python 3 (ipykernel)",
   "language": "python",
   "name": "python3"
  },
  "language_info": {
   "codemirror_mode": {
    "name": "ipython",
    "version": 3
   },
   "file_extension": ".py",
   "mimetype": "text/x-python",
   "name": "python",
   "nbconvert_exporter": "python",
   "pygments_lexer": "ipython3",
   "version": "3.10.9"
  }
 },
 "nbformat": 4,
 "nbformat_minor": 4
}
